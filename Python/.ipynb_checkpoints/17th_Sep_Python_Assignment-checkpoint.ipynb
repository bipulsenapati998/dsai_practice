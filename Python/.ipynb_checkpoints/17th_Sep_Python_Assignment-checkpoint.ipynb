{
 "cells": [
  {
   "cell_type": "markdown",
   "id": "a7376347",
   "metadata": {},
   "source": [
    "## For Loop :-"
   ]
  },
  {
   "cell_type": "markdown",
   "id": "e4020ac7",
   "metadata": {},
   "source": [
    "1.\tWrite a Python program to print numbers from 1 to 10 using a for loop.\n",
    "\n"
   ]
  },
  {
   "cell_type": "code",
   "execution_count": 1,
   "id": "97cdf333",
   "metadata": {},
   "outputs": [
    {
     "name": "stdout",
     "output_type": "stream",
     "text": [
      "1\n",
      "2\n",
      "3\n",
      "4\n",
      "5\n",
      "6\n",
      "7\n",
      "8\n",
      "9\n",
      "10\n"
     ]
    }
   ],
   "source": [
    "for i in range(10):\n",
    "    print(i+1)"
   ]
  },
  {
   "cell_type": "markdown",
   "id": "42db7154",
   "metadata": {},
   "source": [
    "2.\tExplain the difference between a for loop and a while loop in Python.\n"
   ]
  },
  {
   "cell_type": "markdown",
   "id": "ce4211da",
   "metadata": {},
   "source": [
    "### Ans:\n",
    "For: \n",
    "\n",
    ". At signature we perform initialization, check condition & Iteration.\n",
    "\n",
    ". Ideally used over a fixed sequence of items\n",
    "\n",
    ". It is more efficient than While loop as iteration over sequence are predetermind & optimization of code makes it easier.\n",
    "\n",
    "While:\n",
    "\n",
    ". At Signature we perform only Condition checking & initialization\n",
    "\n",
    ". Ideally we use to handle complex control flow situations.\n",
    "\n",
    ". It may be more efficent in certain situation where condition beiong tested and evaluated quickly"
   ]
  },
  {
   "cell_type": "markdown",
   "id": "8c7ccbd7",
   "metadata": {},
   "source": [
    "3.\tWrite a Python program to calculate the sum of all numbers from 1 to 100 using a for loop.\n"
   ]
  },
  {
   "cell_type": "code",
   "execution_count": 2,
   "id": "f02be518",
   "metadata": {},
   "outputs": [
    {
     "name": "stdout",
     "output_type": "stream",
     "text": [
      "Summation from 1:100 is : 5050\n"
     ]
    }
   ],
   "source": [
    "sum=0\n",
    "for i in range(100):\n",
    "    sum+=(i+1)\n",
    "print(f\"Summation from 1:100 is : {sum}\")"
   ]
  },
  {
   "cell_type": "markdown",
   "id": "52b45ef6",
   "metadata": {},
   "source": [
    "4.\tHow do you iterate through a list using a for loop in Python?\n"
   ]
  },
  {
   "cell_type": "code",
   "execution_count": 3,
   "id": "aa398d19",
   "metadata": {},
   "outputs": [
    {
     "name": "stdout",
     "output_type": "stream",
     "text": [
      "This is How Iteration of List works:\n",
      "99\n",
      "88\n",
      "77\n",
      "66\n",
      "22\n",
      "This is How Iteration of List works:\n",
      "99\n",
      "88\n",
      "77\n",
      "66\n",
      "22\n"
     ]
    }
   ],
   "source": [
    "age=[99,88,77,66,22]\n",
    "print(\"This is How Iteration of List works:\")\n",
    "for j in age:\n",
    "    print(j)"
   ]
  },
  {
   "cell_type": "markdown",
   "id": "64fe2e30",
   "metadata": {},
   "source": [
    "5.\tWrite a Python program to find the product of all elements in a list using a for loop.\n"
   ]
  },
  {
   "cell_type": "code",
   "execution_count": 4,
   "id": "a47b7d2f",
   "metadata": {},
   "outputs": [
    {
     "name": "stdout",
     "output_type": "stream",
     "text": [
      "This is How product of all elements in a list works:\n",
      "Result is: 156596748\n"
     ]
    }
   ],
   "source": [
    "mmid=[22,93,994,7,11]\n",
    "prod=1\n",
    "print(\"This is How product of all elements in a list works:\")\n",
    "for j in mmid:\n",
    "    prod*=j\n",
    "print(f\"Result is: {prod}\")"
   ]
  },
  {
   "cell_type": "markdown",
   "id": "b8e9cd96",
   "metadata": {},
   "source": [
    "6.\tCreate a Python program that prints all even numbers from 1 to 20 using a for loop."
   ]
  },
  {
   "cell_type": "code",
   "execution_count": 5,
   "id": "b3437208",
   "metadata": {},
   "outputs": [
    {
     "name": "stdout",
     "output_type": "stream",
     "text": [
      "0\n",
      "\n",
      "2\n",
      "\n",
      "4\n",
      "\n",
      "6\n",
      "\n",
      "8\n",
      "\n",
      "10\n",
      "\n",
      "12\n",
      "\n",
      "14\n",
      "\n",
      "16\n",
      "\n",
      "18\n",
      "\n"
     ]
    }
   ],
   "source": [
    "for i in range(20):\n",
    "    print(i if i % 2 == 0 else \"\")"
   ]
  },
  {
   "cell_type": "markdown",
   "id": "b60c6f5a",
   "metadata": {},
   "source": [
    "7.\tWrite a Python program that calculates the factorial of a number using a for loop.\n"
   ]
  },
  {
   "cell_type": "code",
   "execution_count": 6,
   "id": "700a72a4",
   "metadata": {},
   "outputs": [
    {
     "name": "stdout",
     "output_type": "stream",
     "text": [
      "You want factorial of: 5\n",
      "Factorial of 5 : 120\n"
     ]
    }
   ],
   "source": [
    "num=int(input(\"You want factorial of: \"))\n",
    "val=1\n",
    "for i in range(num,0,-1):\n",
    "    val*=i\n",
    "print(f\"Factorial of {num} : {val}\")"
   ]
  },
  {
   "cell_type": "markdown",
   "id": "204d7047",
   "metadata": {},
   "source": [
    "8.\tHow can you iterate through the characters of a string using a for loop in Python?\n"
   ]
  },
  {
   "cell_type": "code",
   "execution_count": 7,
   "id": "c3f060f5",
   "metadata": {},
   "outputs": [
    {
     "name": "stdout",
     "output_type": "stream",
     "text": [
      "B\n",
      "i\n",
      "p\n",
      "u\n",
      "l\n",
      " \n",
      "i\n",
      "s\n",
      " \n",
      "s\n",
      "t\n",
      "r\n",
      "u\n",
      "g\n",
      "g\n",
      "l\n",
      "i\n",
      "n\n",
      "g\n",
      " \n",
      "t\n",
      "o\n",
      " \n",
      "f\n",
      "i\n",
      "n\n",
      "i\n",
      "s\n",
      "h\n",
      " \n",
      "t\n",
      "h\n",
      "i\n",
      "s\n",
      " \n",
      "a\n",
      "s\n",
      "s\n",
      "i\n",
      "g\n",
      "n\n",
      "m\n",
      "e\n",
      "n\n",
      "t\n"
     ]
    }
   ],
   "source": [
    "detail=\"Bipul is struggling to finish this assignment\"\n",
    "for i in range(len(detail)):\n",
    "    print(detail[i])"
   ]
  },
  {
   "cell_type": "markdown",
   "id": "47b3f9f1",
   "metadata": {},
   "source": [
    "9.\tWrite a Python program to find the largest number in a list using a for loop.\n"
   ]
  },
  {
   "cell_type": "code",
   "execution_count": 8,
   "id": "f28bc61e",
   "metadata": {},
   "outputs": [
    {
     "name": "stdout",
     "output_type": "stream",
     "text": [
      "Largest element in List: 1997.23\n"
     ]
    }
   ],
   "source": [
    "lst=[776,22,31,1,83,176.2,1997.23]\n",
    "max=lst[0]\n",
    "for curr in lst:\n",
    "    if curr>max:\n",
    "        max = curr\n",
    "print(f\"Largest element in List: {max}\")"
   ]
  },
  {
   "cell_type": "markdown",
   "id": "73ee7758",
   "metadata": {},
   "source": [
    "10.\tCreate a Python program that prints the Fibonacci sequence up to a specified limit using a for loop."
   ]
  },
  {
   "cell_type": "code",
   "execution_count": 9,
   "id": "50fd1c8c",
   "metadata": {},
   "outputs": [
    {
     "name": "stdout",
     "output_type": "stream",
     "text": [
      "What is your Specified Limit: 10\n",
      "0 1 1 2 3 5 8 13 21 34 "
     ]
    }
   ],
   "source": [
    "def fibonacci(end):\n",
    "    f=0\n",
    "    s=1\n",
    "    print(f,s,end=\" \")\n",
    "    for i in range(2,end):\n",
    "        nxt=f+s;\n",
    "        f=s\n",
    "        s=nxt\n",
    "        print(nxt,end=\" \")\n",
    "fibo= int(input(\"What is your Specified Limit: \"))\n",
    "fibonacci(fibo)"
   ]
  },
  {
   "cell_type": "markdown",
   "id": "7c07afd1",
   "metadata": {},
   "source": [
    "11.\tWrite a Python program to count the number of vowels in a given string using a for loop.\n",
    "\n"
   ]
  },
  {
   "cell_type": "code",
   "execution_count": 10,
   "id": "438012c5",
   "metadata": {},
   "outputs": [
    {
     "name": "stdout",
     "output_type": "stream",
     "text": [
      "Write a string: elezabeth\n",
      "4\n"
     ]
    }
   ],
   "source": [
    "mysen= input(\"Write a string: \")\n",
    "vowels=\"aeiou\"\n",
    "count=0\n",
    "for c in mysen.lower():\n",
    "    if c in vowels:\n",
    "        count+=1\n",
    "print(count)"
   ]
  },
  {
   "cell_type": "markdown",
   "id": "a69cdaa1",
   "metadata": {},
   "source": [
    "12.\tCreate a Python program that generates a multiplication table for a given number using a for loop.\n"
   ]
  },
  {
   "cell_type": "code",
   "execution_count": 11,
   "id": "bdb2ffa2",
   "metadata": {},
   "outputs": [
    {
     "name": "stdout",
     "output_type": "stream",
     "text": [
      "You want multiplication table for: 5\n",
      "5 X 0 = 0\n",
      "5 X 1 = 5\n",
      "5 X 2 = 10\n",
      "5 X 3 = 15\n",
      "5 X 4 = 20\n",
      "5 X 5 = 25\n",
      "5 X 6 = 30\n",
      "5 X 7 = 35\n",
      "5 X 8 = 40\n",
      "5 X 9 = 45\n",
      "5 X 10 = 50\n",
      "5 X 11 = 55\n",
      "5 X 12 = 60\n",
      "5 X 13 = 65\n",
      "5 X 14 = 70\n",
      "5 X 15 = 75\n",
      "5 X 16 = 80\n",
      "5 X 17 = 85\n",
      "5 X 18 = 90\n",
      "5 X 19 = 95\n",
      "5 X 20 = 100\n"
     ]
    }
   ],
   "source": [
    "table = int(input(\"You want multiplication table for: \"))\n",
    "\n",
    "for t in range(21):\n",
    "    print(f\"{table} X {t} = {table*t}\")"
   ]
  },
  {
   "cell_type": "markdown",
   "id": "3fa4ac3c",
   "metadata": {},
   "source": [
    "13.\tWrite a Python program to reverse a list using a for loop.\n"
   ]
  },
  {
   "cell_type": "code",
   "execution_count": 12,
   "id": "8b28c968",
   "metadata": {},
   "outputs": [
    {
     "name": "stdout",
     "output_type": "stream",
     "text": [
      "Here is Your Reversed List\n",
      "[1, 111, 122, 133, 144, 155, 166, 177, 188, 199]\n"
     ]
    }
   ],
   "source": [
    "print(\"Here is Your Reversed List\")\n",
    "rl = []\n",
    "newList=[199,188,177,166,155,144,133,122,111,1]\n",
    "for l in range(len(newList)-1,-1,-1):\n",
    "    rl.append(newList[l])\n",
    "print(rl)"
   ]
  },
  {
   "cell_type": "markdown",
   "id": "eed26bf0",
   "metadata": {},
   "source": [
    "14.\tWrite a Python program to find the common elements between two lists using a for loop.\n"
   ]
  },
  {
   "cell_type": "code",
   "execution_count": 13,
   "id": "5ccf1836",
   "metadata": {},
   "outputs": [
    {
     "name": "stdout",
     "output_type": "stream",
     "text": [
      "Common Elements are\n",
      "[34, -1024, 101]\n"
     ]
    }
   ],
   "source": [
    "print(\"Common Elements are\")\n",
    "l1=[234,869,933,83,34,24,101,-1024]\n",
    "l2=[33,896,101,43,34,33,21,1,6,46,-1024]\n",
    "l2 = list(set(l2))  # Remove duplicates from l2\n",
    "\n",
    "l3=[]\n",
    "for i in l2:\n",
    "    if i in l1:\n",
    "        l3.append(i)\n",
    "print(l3)"
   ]
  },
  {
   "cell_type": "markdown",
   "id": "4df3294c",
   "metadata": {},
   "source": [
    "15.\tExplain how to use a for loop to iterate through the keys and values of a dictionary in Python.\n"
   ]
  },
  {
   "cell_type": "code",
   "execution_count": 14,
   "id": "d47a281d",
   "metadata": {},
   "outputs": [
    {
     "name": "stdout",
     "output_type": "stream",
     "text": [
      "Key: v Value: 44\n",
      "Key: w Value: 55\n",
      "Key: x Value: 91\n",
      "Key: z Value: 71\n"
     ]
    }
   ],
   "source": [
    "dict={'v':44, 'w':55, 'x':91, 'z':71}\n",
    "\n",
    "for key,value in dict.items():\n",
    "    print(f\"Key: {key} Value: {value}\")"
   ]
  },
  {
   "cell_type": "markdown",
   "id": "ca392c75",
   "metadata": {},
   "source": [
    "16.\tWrite a Python program to find the GCD (Greatest Common Divisor) of two numbers using a for loop.\n"
   ]
  },
  {
   "cell_type": "code",
   "execution_count": 15,
   "id": "c6f35e5d",
   "metadata": {},
   "outputs": [
    {
     "name": "stdout",
     "output_type": "stream",
     "text": [
      "2\n",
      "1\n"
     ]
    }
   ],
   "source": [
    "def gcd(a,b):\n",
    "    for i in range(min(a, b), 0, -1):# range(start,stop,step)\n",
    "        if a % i == 0 and b % i == 0:\n",
    "            return i\n",
    "    return 1\n",
    "print(gcd(88,18))\n",
    "print(gcd(89,19))"
   ]
  },
  {
   "cell_type": "markdown",
   "id": "88f9f4c0",
   "metadata": {},
   "source": [
    "17.\tCreate a Python program that checks if a string is a palindrome using a for loop.\n"
   ]
  },
  {
   "cell_type": "code",
   "execution_count": 16,
   "id": "ef69dab8",
   "metadata": {},
   "outputs": [
    {
     "name": "stdout",
     "output_type": "stream",
     "text": [
      "Write Something to check its palindrome: racecar\n",
      "Yeah Its Palindrome\n"
     ]
    }
   ],
   "source": [
    "def isPalindrome(inp):\n",
    "    # Check Sensitivity of space & Case char\n",
    "    cleanedStr= inp.replace(\" \",\"\").lower()\n",
    "    start=0\n",
    "    end= len(inp)-1\n",
    "    # Check Char by Char if true then start fwd step 1 & end bakwd step 1\n",
    "    for _ in range(len(inp)):\n",
    "        if inp[start]!=inp[end]:\n",
    "            return False\n",
    "        start+=1\n",
    "        end-=1        \n",
    "    return True\n",
    "\n",
    "mystr= input(\"Write Something to check its palindrome: \")\n",
    "\n",
    "if isPalindrome(mystr):\n",
    "    print(\"Yeah Its Palindrome\")\n",
    "else: \n",
    "    print(\"Nahh!! Its Not Palindrome try with New String\")"
   ]
  },
  {
   "cell_type": "markdown",
   "id": "dd4afdcd",
   "metadata": {},
   "source": [
    "18.\tWrite a Python program to remove duplicates from a list using a for loop.\n"
   ]
  },
  {
   "cell_type": "code",
   "execution_count": 17,
   "id": "d1190666",
   "metadata": {},
   "outputs": [
    {
     "name": "stdout",
     "output_type": "stream",
     "text": [
      "[934, 87, 123, 91, 34, 43]\n"
     ]
    }
   ],
   "source": [
    "original_list=[934,87,123,91,87,34,43,34,934]\n",
    "unique_list=[]\n",
    "for i in original_list:\n",
    "    if i not in unique_list:\n",
    "        unique_list.append(i)\n",
    "print(unique_list)"
   ]
  },
  {
   "cell_type": "markdown",
   "id": "67c49e88",
   "metadata": {},
   "source": [
    "19.\tCreate a Python program that counts the number of words in a sentence using a for loop.\n"
   ]
  },
  {
   "cell_type": "code",
   "execution_count": 19,
   "id": "c6ed9b45",
   "metadata": {},
   "outputs": [
    {
     "name": "stdout",
     "output_type": "stream",
     "text": [
      "Give me one Sentence: Poland is disappointed from zelenskey.\n",
      "Word Count is:  5\n"
     ]
    }
   ],
   "source": [
    "sent = input(\"Give me one Sentence: \")\n",
    "#len(sent.split())\n",
    "word=0\n",
    "for s in sent:\n",
    "    if s==\" \" or s==\"\\t\" or s==\"\\n\" or s==\".\":\n",
    "        word+=1\n",
    "if len(sent)>0:\n",
    "    print(\"Word Count is: \",word)\n",
    "else:\n",
    "    print(\"Word Count is: \",word)    "
   ]
  },
  {
   "cell_type": "markdown",
   "id": "9daae84f",
   "metadata": {},
   "source": [
    "20.\tWrite a Python program to find the sum of all odd numbers from 1 to 50 using a for loop.\n"
   ]
  },
  {
   "cell_type": "code",
   "execution_count": 20,
   "id": "2ef79d86",
   "metadata": {},
   "outputs": [
    {
     "name": "stdout",
     "output_type": "stream",
     "text": [
      "Summation from 1-50 is:  1275\n"
     ]
    }
   ],
   "source": [
    "sum=0\n",
    "for h in range(50):\n",
    "    if h+1%2 !=0:\n",
    "        sum+=(h+1)\n",
    "print(\"Summation from 1-50 is: \",sum)"
   ]
  },
  {
   "cell_type": "markdown",
   "id": "b312283b",
   "metadata": {},
   "source": [
    "21.\tWrite a Python program that checks if a given year is a leap year using a for loop.\n"
   ]
  },
  {
   "cell_type": "code",
   "execution_count": 23,
   "id": "d5332ea4",
   "metadata": {},
   "outputs": [
    {
     "name": "stdout",
     "output_type": "stream",
     "text": [
      "For how many years you want to calculate leap year: 18\n",
      "Starting year: 2000\n",
      "2000 <-- Leap Year\n",
      "2001\n",
      "2002\n",
      "2003\n",
      "2004 <-- Leap Year\n",
      "2005\n",
      "2006\n",
      "2007\n",
      "2008 <-- Leap Year\n",
      "2009\n",
      "2010\n",
      "2011\n",
      "2012 <-- Leap Year\n",
      "2013\n",
      "2014\n",
      "2015\n",
      "2016 <-- Leap Year\n",
      "2017\n",
      "2018\n"
     ]
    }
   ],
   "source": [
    "duration=int(input(\"For how many years you want to calculate leap year: \"))\n",
    "startYear= int(input(\"Starting year: \"))\n",
    "endYear= startYear+duration\n",
    "\n",
    "for year in range(startYear-1,endYear):\n",
    "    year+=1\n",
    "    if year%4 ==0 and (year%100!=0 or year%400==0):\n",
    "        print(f\"{year} <-- Leap Year\")\n",
    "    else:\n",
    "        print(year)\n",
    "        "
   ]
  },
  {
   "cell_type": "markdown",
   "id": "02842380",
   "metadata": {},
   "source": [
    "22.\tCreate a Python program that calculates the square root of a number using a for loop.\n"
   ]
  },
  {
   "cell_type": "code",
   "execution_count": 24,
   "id": "ceab906e",
   "metadata": {},
   "outputs": [
    {
     "name": "stdout",
     "output_type": "stream",
     "text": [
      "You want Square Root of: 81\n",
      "Square root of 81: 9\n"
     ]
    }
   ],
   "source": [
    "def squrt(num):\n",
    "    # if multiple of same number is same as original num then pass it\n",
    "    for n in range(1,num-1):\n",
    "        if n*n==num:\n",
    "            return n\n",
    "    return None\n",
    "root =int(input(\"You want Square Root of: \"))\n",
    "print(f\"Square root of {root}: {squrt(root)}\")"
   ]
  },
  {
   "cell_type": "markdown",
   "id": "4cc61e67",
   "metadata": {},
   "source": [
    "23.\tWrite a Python program to find the LCM (Least Common Multiple) of two numbers using a for loop."
   ]
  },
  {
   "cell_type": "code",
   "execution_count": 1,
   "id": "9faa77ff",
   "metadata": {},
   "outputs": [
    {
     "name": "stdout",
     "output_type": "stream",
     "text": [
      "You want LCM of: 12\n",
      "And: 18\n",
      "LCM of (12, 18): 36\n"
     ]
    }
   ],
   "source": [
    "def lcm(a,b):\n",
    "    # Goal of LCM is to make DIvident equal to 0 in the range maximunm amongst two till product of both num\n",
    "    for n in range(max(a,b),a*b+1):\n",
    "        if n%a==0 and n%b==0:\n",
    "            return n\n",
    "    return None\n",
    "c =int(input(\"You want LCM of: \"))\n",
    "m =int(input(\"And: \"))\n",
    "print(f\"LCM of {c, m}: {lcm(c,m)}\")"
   ]
  },
  {
   "cell_type": "markdown",
   "id": "79bb4703",
   "metadata": {},
   "source": [
    "## If else :"
   ]
  },
  {
   "cell_type": "markdown",
   "id": "70087065",
   "metadata": {},
   "source": [
    "1.\tWrite a Python program to check if a number is positive, negative, or zero using an if-else statement.\n"
   ]
  },
  {
   "cell_type": "code",
   "execution_count": 2,
   "id": "7aeca30c",
   "metadata": {},
   "outputs": [
    {
     "name": "stdout",
     "output_type": "stream",
     "text": [
      "What's your Number?: -33.9\n",
      "It's Negative Number\n"
     ]
    }
   ],
   "source": [
    "checkNum= float(input(\"What's your Number?: \"))\n",
    "if checkNum<0:\n",
    "    print(\"It's Negative Number\")\n",
    "elif checkNum>0:\n",
    "    print(\"It's Positive Number\")\n",
    "else:\n",
    "    print(\"It's ZERO\")\n",
    "    "
   ]
  },
  {
   "cell_type": "markdown",
   "id": "b2f8e4ac",
   "metadata": {},
   "source": [
    "2.\tCreate a Python program that checks if a given number is even or odd using an if-else statement.\n"
   ]
  },
  {
   "cell_type": "code",
   "execution_count": 4,
   "id": "c5e02d53",
   "metadata": {},
   "outputs": [
    {
     "name": "stdout",
     "output_type": "stream",
     "text": [
      "It's Odd Number\n",
      "\n"
     ]
    }
   ],
   "source": [
    "def evenOdd(n):\n",
    "    if n%2==0:\n",
    "        print(\"It's Even Number\")\n",
    "    else:\n",
    "        print(\"It's Odd Number\")\n",
    "    return ''\n",
    "        \n",
    "print(evenOdd(99));      "
   ]
  },
  {
   "cell_type": "markdown",
   "id": "f2b7f447",
   "metadata": {},
   "source": [
    "3.\tHow can you use nested if-else statements in Python, and provide an example?\n"
   ]
  },
  {
   "cell_type": "code",
   "execution_count": 5,
   "id": "7bc82874",
   "metadata": {},
   "outputs": [
    {
     "name": "stdout",
     "output_type": "stream",
     "text": [
      "True\n",
      "True\n",
      "False\n"
     ]
    }
   ],
   "source": [
    "def is_even_and_positive(number):\n",
    "  #Returns True if the given number is even and positive, False otherwise.\n",
    "  if number % 2 == 0:\n",
    "    if number > 0:\n",
    "      return True\n",
    "    else:\n",
    "      return False\n",
    "  else:\n",
    "    return False\n",
    "\n",
    "print(is_even_and_positive(10))\n",
    "print(is_even_and_positive(12))\n",
    "print(is_even_and_positive(-10))\n"
   ]
  },
  {
   "cell_type": "markdown",
   "id": "430584df",
   "metadata": {},
   "source": [
    "4.\tWrite a Python program to determine the largest of three numbers using if-else.\n"
   ]
  },
  {
   "cell_type": "code",
   "execution_count": 6,
   "id": "704bdaf0",
   "metadata": {},
   "outputs": [
    {
     "name": "stdout",
     "output_type": "stream",
     "text": [
      "234 is largest amongst three\n"
     ]
    }
   ],
   "source": [
    "a=99\n",
    "b=5\n",
    "c=234\n",
    "\n",
    "if a>b:\n",
    "    if a>c:\n",
    "        print(f\"{a} is largest amongst three\")\n",
    "    else:\n",
    "        print(f\"{c} is largest amongst three\")\n",
    "else:\n",
    "    print(f\"{b} is largest amongst three\")\n",
    "    "
   ]
  },
  {
   "cell_type": "markdown",
   "id": "900438c3",
   "metadata": {},
   "source": [
    "5.\tWrite a Python program that calculates the absolute value of a number using if-else.\n"
   ]
  },
  {
   "cell_type": "code",
   "execution_count": 7,
   "id": "6ef26276",
   "metadata": {},
   "outputs": [
    {
     "name": "stdout",
     "output_type": "stream",
     "text": [
      "56\n",
      "100\n",
      "0\n"
     ]
    }
   ],
   "source": [
    "def absoluteValue(number):\n",
    "    if number >= 0:\n",
    "        return number\n",
    "    else:\n",
    "        return -number\n",
    "\n",
    "print(absoluteValue(56))\n",
    "print(absoluteValue(-100))\n",
    "print(absoluteValue(0))"
   ]
  },
  {
   "cell_type": "markdown",
   "id": "c628e84c",
   "metadata": {},
   "source": [
    "6.\tCreate a Python program that checks if a given character is a vowel or consonant using if-else.\n"
   ]
  },
  {
   "cell_type": "code",
   "execution_count": 8,
   "id": "12d3287f",
   "metadata": {},
   "outputs": [
    {
     "name": "stdout",
     "output_type": "stream",
     "text": [
      "Character is Consonant\n"
     ]
    }
   ],
   "source": [
    "vowel=\"aeiouAEIOU\"\n",
    "char=\"t\"\n",
    "\n",
    "if char in vowel:\n",
    "    print(\"Character is Vowel\")\n",
    "else:\n",
    "    print(\"Character is Consonant\")"
   ]
  },
  {
   "cell_type": "markdown",
   "id": "31a2b248",
   "metadata": {},
   "source": [
    "7.\tWrite a Python program to determine if a user is eligible to vote based on their age using if-else.\n"
   ]
  },
  {
   "cell_type": "code",
   "execution_count": 9,
   "id": "7a31d26e",
   "metadata": {},
   "outputs": [
    {
     "name": "stdout",
     "output_type": "stream",
     "text": [
      "What is your Age? 66\n",
      "Congrats you are eligible to Vote\n"
     ]
    }
   ],
   "source": [
    "voteAge= int(input(\"What is your Age? \"))\n",
    "\n",
    "if voteAge>=18:\n",
    "    print(\"Congrats you are eligible to Vote\")\n",
    "else:\n",
    "    print(f\"You Still need {18-voteAge} years to Vote in Election\")"
   ]
  },
  {
   "cell_type": "markdown",
   "id": "e1282ea6",
   "metadata": {},
   "source": [
    "8.\tCreate a Python program that calculates the discount amount based on the purchase amount using if-else.\n"
   ]
  },
  {
   "cell_type": "code",
   "execution_count": 11,
   "id": "2f412511",
   "metadata": {},
   "outputs": [
    {
     "name": "stdout",
     "output_type": "stream",
     "text": [
      "Purchase Amount: 34566\n",
      "Your Discount amount is:  6913\n"
     ]
    }
   ],
   "source": [
    "purchaseAmount =float(input(\"Purchase Amount: \"))\n",
    "discount=0\n",
    "if purchaseAmount>=1000:\n",
    "    discount=purchaseAmount*0.2\n",
    "elif purchaseAmount>=500:\n",
    "    discount=purchaseAmount*0.1\n",
    "else:\n",
    "    discount=purchaseAmount*0.05\n",
    "print(\"Your Discount amount is: \",int(discount))    \n",
    "    "
   ]
  },
  {
   "cell_type": "markdown",
   "id": "495d024d",
   "metadata": {},
   "source": [
    "9.\tWrite a Python program to check if a number is within a specified range using if-else.\n"
   ]
  },
  {
   "cell_type": "code",
   "execution_count": 12,
   "id": "caac5302",
   "metadata": {},
   "outputs": [
    {
     "name": "stdout",
     "output_type": "stream",
     "text": [
      "Give me a num between 9-999: 998\n",
      "Entered number is in range\n"
     ]
    }
   ],
   "source": [
    "numRange =int(input(\"Give me a num between 9-999: \"))\n",
    "\n",
    "if numRange>=9 and numRange<999:\n",
    "    print(\"Entered number is in range\")\n",
    "else:\n",
    "    print(\"Entered number is not in Specified range\")"
   ]
  },
  {
   "cell_type": "markdown",
   "id": "3ffb7138",
   "metadata": {},
   "source": [
    "10.\tCreate a Python program that determines the grade of a student based on their score using if-else.\n"
   ]
  },
  {
   "cell_type": "code",
   "execution_count": 13,
   "id": "6dbf8099",
   "metadata": {},
   "outputs": [
    {
     "name": "stdout",
     "output_type": "stream",
     "text": [
      "score: 57.6\n",
      "The student's grade is F.\n"
     ]
    }
   ],
   "source": [
    "def determine_grade(score):    \n",
    "    if score >= 90:\n",
    "        grade = \"A\"\n",
    "    elif score >= 80:\n",
    "        grade = \"B\"\n",
    "    elif score >= 70:\n",
    "        grade = \"C\"\n",
    "    elif score >= 60:\n",
    "        grade = \"D\"\n",
    "    else:\n",
    "        grade = \"F\"\n",
    "\n",
    "    return grade\n",
    "\n",
    "score =float(input(\"score: \"))\n",
    "grade = determine_grade(score)\n",
    "\n",
    "print(f\"The student's grade is {grade}.\")\n"
   ]
  },
  {
   "cell_type": "markdown",
   "id": "626a5305",
   "metadata": {},
   "source": [
    "11.\tWrite a Python program to check if a string is empty or not using if-else.\n"
   ]
  },
  {
   "cell_type": "code",
   "execution_count": 14,
   "id": "af78e9dc",
   "metadata": {},
   "outputs": [
    {
     "name": "stdout",
     "output_type": "stream",
     "text": [
      "Enter a String: \n",
      "You have entered an Empty String\n"
     ]
    }
   ],
   "source": [
    "checkString=input(\"Enter a String: \")\n",
    "checkString=checkString.strip() # works even if uh give 20 spaces \n",
    "if checkString==\"\":\n",
    "    print(\"You have entered an Empty String\")\n",
    "else:\n",
    "    print(f\"You have entered {checkString}\")"
   ]
  },
  {
   "cell_type": "markdown",
   "id": "b355adf9",
   "metadata": {},
   "source": [
    "12.\tCreate a Python program that identifies the type of a triangle (e.g., equilateral, isosceles, or scalene) based on input values using if-else.\n"
   ]
  },
  {
   "cell_type": "code",
   "execution_count": 15,
   "id": "a45ba4d8",
   "metadata": {},
   "outputs": [
    {
     "name": "stdout",
     "output_type": "stream",
     "text": [
      "Enter Three Sides of Triangle\n",
      "Side 1: 34\n",
      "Side 2: 45\n",
      "Side 3: 34\n",
      "Triangle is Isosceles\n"
     ]
    }
   ],
   "source": [
    "def triangle(s1,s2,s3):\n",
    "    \n",
    "    if s1==s2==s3:\n",
    "        types=\"Equilateral\"\n",
    "    elif s1==s3 or s2==s3 or s1==s2:\n",
    "        types=\"Isosceles\"\n",
    "    else:\n",
    "        types=\"Scalene\"\n",
    "    return types\n",
    "\n",
    "print(\"Enter Three Sides of Triangle\")\n",
    "s1=float(input(\"Side 1: \"))\n",
    "s2=float(input(\"Side 2: \"))\n",
    "s3=float(input(\"Side 3: \"))\n",
    "\n",
    "types = triangle(s1,s2,s3)\n",
    "print(f\"Triangle is {types}\")"
   ]
  },
  {
   "cell_type": "markdown",
   "id": "7d138e55",
   "metadata": {},
   "source": [
    "13.\tWrite a Python program to determine the day of the week based on a user-provided number using if-else.\n"
   ]
  },
  {
   "cell_type": "code",
   "execution_count": 16,
   "id": "c29ccfe1",
   "metadata": {},
   "outputs": [
    {
     "name": "stdout",
     "output_type": "stream",
     "text": [
      "Enter a day number: 5\n",
      "The day of the week is Friday.\n"
     ]
    }
   ],
   "source": [
    "def determine_day_of_week(day_number):\n",
    "    if day_number == 1:\n",
    "        day_of_week = \"Monday\"\n",
    "    elif day_number == 2:\n",
    "        day_of_week = \"Tuesday\"\n",
    "    elif day_number == 3:\n",
    "        day_of_week = \"Wednesday\"\n",
    "    elif day_number == 4:\n",
    "        day_of_week = \"Thursday\"\n",
    "    elif day_number == 5:\n",
    "        day_of_week = \"Friday\"\n",
    "    elif day_number == 6:\n",
    "        day_of_week = \"Saturday\"\n",
    "    elif day_number == 7:\n",
    "        day_of_week = \"Sunday\"\n",
    "    else:\n",
    "        day_of_week = \"Invalid day number\"\n",
    "\n",
    "    return day_of_week\n",
    "\n",
    "day_number = int(input(\"Enter a day number: \"))\n",
    "\n",
    "day_of_week = determine_day_of_week(day_number)\n",
    "\n",
    "print(f\"The day of the week is {day_of_week}.\")\n"
   ]
  },
  {
   "cell_type": "markdown",
   "id": "f8b31774",
   "metadata": {},
   "source": [
    "14.\tCreate a Python program that checks if a given year is a leap year using both if-else and a function.\n"
   ]
  },
  {
   "cell_type": "code",
   "execution_count": 17,
   "id": "1355b43b",
   "metadata": {},
   "outputs": [
    {
     "name": "stdout",
     "output_type": "stream",
     "text": [
      "Enter a year to check if Leap year or not: 2024\n",
      "2024 is Leap Year\n"
     ]
    }
   ],
   "source": [
    "def is_leap_year(year):\n",
    "    if year%4==0 and (year%100!=0 or year%400==0):\n",
    "        return True\n",
    "    else:\n",
    "        return False\n",
    "year=int(input(\"Enter a year to check if Leap year or not: \"))\n",
    "\n",
    "if is_leap_year(year):\n",
    "    print(f\"{year} is Leap Year\")\n",
    "else:\n",
    "    print(f\"{year} is NOT a Leap Year\")"
   ]
  },
  {
   "cell_type": "markdown",
   "id": "702b51bf",
   "metadata": {},
   "source": [
    "15.\tHow do you use the \"assert\" statement in Python to add debugging checks within if-else blocks?\n",
    "Ans:\n",
    "\t\n",
    "    It is used to add debugging checks within if-else blocks. It allows you to test a condition, and if the condition is False, it raises an AssertionError exception, providing a clear and informative error message. "
   ]
  },
  {
   "cell_type": "code",
   "execution_count": 18,
   "id": "52b93354",
   "metadata": {},
   "outputs": [
    {
     "ename": "AssertionError",
     "evalue": "x should be positive.",
     "output_type": "error",
     "traceback": [
      "\u001b[1;31m---------------------------------------------------------------------------\u001b[0m",
      "\u001b[1;31mAssertionError\u001b[0m                            Traceback (most recent call last)",
      "Cell \u001b[1;32mIn[18], line 8\u001b[0m\n\u001b[0;32m      5\u001b[0m     \u001b[38;5;28mprint\u001b[39m(\u001b[38;5;124m\"\u001b[39m\u001b[38;5;124mx is positive.\u001b[39m\u001b[38;5;124m\"\u001b[39m)\n\u001b[0;32m      6\u001b[0m \u001b[38;5;28;01melse\u001b[39;00m:\n\u001b[0;32m      7\u001b[0m     \u001b[38;5;66;03m# If the condition is not met, raise an AssertionError with an error message\u001b[39;00m\n\u001b[1;32m----> 8\u001b[0m     \u001b[38;5;28;01massert\u001b[39;00m x \u001b[38;5;241m>\u001b[39m \u001b[38;5;241m0\u001b[39m, \u001b[38;5;124m\"\u001b[39m\u001b[38;5;124mx should be positive.\u001b[39m\u001b[38;5;124m\"\u001b[39m\n",
      "\u001b[1;31mAssertionError\u001b[0m: x should be positive."
     ]
    }
   ],
   "source": [
    "x = -10\n",
    "\n",
    "if x > 0:\n",
    "    # If the condition is met, proceed with the code\n",
    "    print(\"x is positive.\")\n",
    "else:\n",
    "    # If the condition is not met, raise an AssertionError with an error message\n",
    "    assert x > 0, \"x should be positive.\"\n"
   ]
  },
  {
   "cell_type": "markdown",
   "id": "fd85d7be",
   "metadata": {},
   "source": [
    "16.\tCreate a Python program that determines the eligibility of a person for a senior citizen discount based on age using if-else.\n"
   ]
  },
  {
   "cell_type": "code",
   "execution_count": 19,
   "id": "e0b54f42",
   "metadata": {},
   "outputs": [
    {
     "name": "stdout",
     "output_type": "stream",
     "text": [
      "Eligible for 30% discount on Medicines\n",
      " \n"
     ]
    }
   ],
   "source": [
    "def senior_citizen(age):\n",
    "    if age>=55:\n",
    "        print(\"Eligible for 30% discount on Medicines\")\n",
    "    else:\n",
    "        print(\"Not Eligible for any discounts\")\n",
    "    return \" \"\n",
    "print(senior_citizen(56))"
   ]
  },
  {
   "cell_type": "markdown",
   "id": "19849396",
   "metadata": {},
   "source": [
    "17.\tWrite a Python program to categorize a given character as uppercase, lowercase, or neither using if-else.\n"
   ]
  },
  {
   "cell_type": "code",
   "execution_count": 21,
   "id": "e2a49003",
   "metadata": {},
   "outputs": [
    {
     "name": "stdout",
     "output_type": "stream",
     "text": [
      "Enter character: X\n",
      "UPPER CASE CHARACTER\n"
     ]
    }
   ],
   "source": [
    "char = input(\"Enter character: \")\n",
    "\n",
    "if char>=\"A\" and char<='Z':\n",
    "    print(\"UPPER CASE CHARACTER\")\n",
    "elif char>=\"a\" and char<=\"z\":\n",
    "    print(\"lower case character\")\n",
    "else:\n",
    "    print(\"Please ENter Alphabetical Character\")"
   ]
  },
  {
   "cell_type": "markdown",
   "id": "9a0213d0",
   "metadata": {},
   "source": [
    "18.\tWrite a Python program to determine the roots of a quadratic equation using if-else.\n"
   ]
  },
  {
   "cell_type": "code",
   "execution_count": 22,
   "id": "7e6438e8",
   "metadata": {},
   "outputs": [
    {
     "name": "stdout",
     "output_type": "stream",
     "text": [
      "Enter The Coeff a: 22\n",
      "Enter The Coeff b: 44\n",
      "Enter The Coeff c: 6\n",
      "Root 1: -71.24341313553819\n",
      "Root 2: -896.756586864462\n"
     ]
    }
   ],
   "source": [
    "# To find a root we calculate discriminiant i.e. b^2-4ac in x^2+2ab+c\n",
    "import math\n",
    "a= float(input(\"Enter The Coeff a: \"))\n",
    "b= float(input(\"Enter The Coeff b: \"))\n",
    "c= float(input(\"Enter The Coeff c: \"))\n",
    "\n",
    "d= b**2-4*a*c # discriminant\n",
    "\n",
    "if d>0:\n",
    "    r1= (-b+math.sqrt(d))/2*a\n",
    "    r2= (-b-math.sqrt(d))/2*a    \n",
    "    print(f\"Root 1: {r1}\")\n",
    "    print(f\"Root 2: {r2}\")    \n",
    "elif d==0:\n",
    "    r=(-b)/(2*a)\n",
    "    print(f\"Root : {r}\")\n",
    "else:\n",
    "    r=(-b)/(2*a)\n",
    "    i=math.sqrt(abs(d))/2*a #iota\n",
    "    print(f\"Root 1: {r}+{i}i\")\n",
    "    print(f\"Root 2: {r}-{i}i\")\n",
    "    \n",
    "    "
   ]
  },
  {
   "cell_type": "markdown",
   "id": "2267c768",
   "metadata": {},
   "source": [
    "19.\tCreate a Python program that checks if a given year is a century year or not using if-else.\n"
   ]
  },
  {
   "cell_type": "code",
   "execution_count": 23,
   "id": "f4826d66",
   "metadata": {},
   "outputs": [
    {
     "name": "stdout",
     "output_type": "stream",
     "text": [
      "Enter a Year: 3000\n",
      "3000 is Century Year\n"
     ]
    }
   ],
   "source": [
    "def isCenturyYear(year):\n",
    "    if year%100==0:\n",
    "        return True\n",
    "    else:\n",
    "        return False\n",
    "    \n",
    "year=int(input(\"Enter a Year: \"))\n",
    "\n",
    "if len(str(year))==4:\n",
    "    if isCenturyYear(year):\n",
    "        print(f\"{year} is Century Year\")\n",
    "    else:\n",
    "        print(f\"{year} is NOT a Century Year\")    \n",
    "else:\n",
    "    raise ValueError(\"Input must be a Four Digit integer.\")\n",
    "    "
   ]
  },
  {
   "cell_type": "markdown",
   "id": "065c9d5b",
   "metadata": {},
   "source": [
    "20.\tWrite a Python program to determine if a given number is a perfect square using if-else.\n"
   ]
  },
  {
   "cell_type": "code",
   "execution_count": 24,
   "id": "7100458b",
   "metadata": {},
   "outputs": [
    {
     "name": "stdout",
     "output_type": "stream",
     "text": [
      "ENter a Number: 36\n",
      "Yes That's Perfect Square 36 & its square root is 6\n"
     ]
    }
   ],
   "source": [
    "num = int(input(\"ENter a Number: \"))\n",
    "\n",
    "if num<0:\n",
    "    print(\"Negative Number Doesn't have Prefect Square\")\n",
    "else:\n",
    "    sq_rt= int(num**0.5)\n",
    "    if sq_rt**2==num:\n",
    "        print(f\"Yes That's Perfect Square {num} & its square root is {sq_rt}\")\n",
    "    else:\n",
    "        print(\"No its not Perfect Square\")"
   ]
  },
  {
   "cell_type": "markdown",
   "id": "c4838d34",
   "metadata": {},
   "source": [
    "21.\tExplain the purpose of the \"continue\" and \"break\" statements within if-else loops.\n"
   ]
  },
  {
   "cell_type": "code",
   "execution_count": 25,
   "id": "9a57edc7",
   "metadata": {},
   "outputs": [
    {
     "name": "stdout",
     "output_type": "stream",
     "text": [
      "13 I am Neither Divisible by 2 nor 3 in break & Continue \n",
      "\n",
      "Divisible by 2: 12 & CONTINUE \n",
      "\n",
      "11 I am Neither Divisible by 2 nor 3 in break & Continue \n",
      "\n",
      "Divisible by 2: 10 & CONTINUE \n",
      "\n",
      "Breaking at Point :9\n"
     ]
    }
   ],
   "source": [
    "x=14\n",
    "while x>0:\n",
    "    x-=1\n",
    "    if x%2==0:\n",
    "        print(f\"Divisible by 2: {x} & CONTINUE \\n\")\n",
    "        continue\n",
    "        print(x)\n",
    "    elif x%3==0:\n",
    "        print(f\"Breaking at Point :{x}\")\n",
    "        break\n",
    "    else:\n",
    "        print(f\"{x} I am Neither Divisible by 2 nor 3 in break & Continue \\n\")"
   ]
  },
  {
   "cell_type": "markdown",
   "id": "4b798cdd",
   "metadata": {},
   "source": [
    "22.\tCreate a Python program that calculates the BMI (Body Mass Index) of a person based on their weight and height using if-else.\n"
   ]
  },
  {
   "cell_type": "code",
   "execution_count": 28,
   "id": "ec1c09c7",
   "metadata": {},
   "outputs": [
    {
     "name": "stdout",
     "output_type": "stream",
     "text": [
      "Enter your weight (in kilograms): 80\n",
      "Enter your height (in meters): 2\n",
      "You Are Normal Weight because your BMI is 20.00\n"
     ]
    }
   ],
   "source": [
    "weight = float(input(\"Enter your weight (in kilograms): \"))\n",
    "height = float(input(\"Enter your height (in meters): \"))\n",
    "\n",
    "bmi= weight/(height**2)\n",
    "\n",
    "if bmi<18.5:\n",
    "    category =\"Underweight\"\n",
    "elif 18.5<= bmi <24.9:\n",
    "    category =\"Normal Weight\"\n",
    "elif 25<= bmi <29.9:\n",
    "    category =\"OverWeight\"\n",
    "else:\n",
    "    category =\"Obesity\"\n",
    "    \n",
    "print(f\"You Are {category} because your BMI is {bmi:.2f}\")"
   ]
  },
  {
   "cell_type": "markdown",
   "id": "06702f62",
   "metadata": {},
   "source": [
    "23.\tHow can you use the \"filter()\" function with if-else statements to filter elements from a list?\n"
   ]
  },
  {
   "cell_type": "code",
   "execution_count": 30,
   "id": "5c7a0d53",
   "metadata": {},
   "outputs": [
    {
     "name": "stdout",
     "output_type": "stream",
     "text": [
      "[166, 36, 54, 688, 92]\n"
     ]
    }
   ],
   "source": [
    "def is_even(n):\n",
    "  # returns True if the given number is even, False otherwise.\n",
    "  return n % 2 == 0\n",
    "\n",
    "\n",
    "numbers = [166, 23, 36, 54, 445, 688, 7, 87, 92, 107]\n",
    "even_numbers = list(filter(is_even, numbers))\n",
    "\n",
    "print(even_numbers)\n"
   ]
  },
  {
   "cell_type": "markdown",
   "id": "e0a73fcc",
   "metadata": {},
   "source": [
    "24.\tWrite a Python program to determine if a given number is prime or not using if-else."
   ]
  },
  {
   "cell_type": "code",
   "execution_count": 31,
   "id": "97e73d6f",
   "metadata": {},
   "outputs": [
    {
     "name": "stdout",
     "output_type": "stream",
     "text": [
      "Enter a number: 13\n",
      "13 is a prime number.\n"
     ]
    }
   ],
   "source": [
    "number = int(input(\"Enter a number: \"))\n",
    "\n",
    "if number < 2:\n",
    "    print(f\"{number} is not a prime number.\")\n",
    "else:\n",
    "    is_prime = True  # Assume the number is prime \n",
    "    for i in range(2, int(number**0.5) + 1):\n",
    "        if number % i == 0:\n",
    "            is_prime = False\n",
    "            break\n",
    "\n",
    "    if is_prime:\n",
    "        print(f\"{number} is a prime number.\")\n",
    "    else:\n",
    "        print(f\"{number} is not a prime number.\")\n"
   ]
  },
  {
   "cell_type": "markdown",
   "id": "38a9fd0a",
   "metadata": {},
   "source": [
    "## Map :-"
   ]
  },
  {
   "cell_type": "markdown",
   "id": "46fe882b",
   "metadata": {},
   "source": [
    "1.\tExplain the purpose of the `map()` function in Python and provide an example of how it can be used to apply a function to each element of an iterable.\n",
    "\n"
   ]
  },
  {
   "cell_type": "code",
   "execution_count": 32,
   "id": "b31ebe2b",
   "metadata": {},
   "outputs": [
    {
     "name": "stdout",
     "output_type": "stream",
     "text": [
      "['hey', 'bipul', 'i know', 'you', 'got', 'this', 'course', 'after', 'hardwork']\n"
     ]
    }
   ],
   "source": [
    "# map is a function and an iterable. \n",
    "#map() function applies the function to each element of the iterable and returns an iterator containing the results.\n",
    "def toLower(strg):\n",
    "    return strg.lower()\n",
    "\n",
    "myList=['HEY', 'BIPUL', 'I KNOW', 'YOU', 'GOT', 'THIS', 'COURSE', 'AFTER', 'HARDWORK']\n",
    "print(list(map(toLower,myList)))"
   ]
  },
  {
   "cell_type": "markdown",
   "id": "f8a8e32d",
   "metadata": {},
   "source": [
    "2.\tWrite a Python program that uses the `map()` function to square each element of a list of numbers.\n"
   ]
  },
  {
   "cell_type": "code",
   "execution_count": 33,
   "id": "43e8a1b1",
   "metadata": {},
   "outputs": [
    {
     "name": "stdout",
     "output_type": "stream",
     "text": [
      "[4, 8, 12, 16, 24, 28, 32, 36]\n"
     ]
    }
   ],
   "source": [
    "def square(num):\n",
    "    return num*2\n",
    "\n",
    "myList=[2,4,6,8,12,14,16,18]\n",
    "print(list(map(square,myList)))"
   ]
  },
  {
   "cell_type": "markdown",
   "id": "979233b7",
   "metadata": {},
   "source": [
    "3.\tHow does the `map()` function differ from a list comprehension in Python, and when would you choose one over the other?\n",
    "\n",
    "## Ans:\n",
    "\n",
    "\t\t1.list comprehensions can be less efficient than the map() \n",
    "        \n",
    "        2.List comprehensions are more concise and expressive than the map() function, especially for complex transformation\n",
    "        \n",
    "        3.map() function can be difficult to read and maintain if the function to be applied is complex or if the iterable\n",
    "        \n",
    "        4.map() function is useful for transforming iterables in a simple and straightforward way."
   ]
  },
  {
   "cell_type": "code",
   "execution_count": 34,
   "id": "8f3b9f1b",
   "metadata": {},
   "outputs": [
    {
     "name": "stdout",
     "output_type": "stream",
     "text": [
      "[1.0, 3.0, 9.0, 7.0, 8.0]\n"
     ]
    }
   ],
   "source": [
    "# LIST COmprehension\n",
    "\n",
    "num=[1,9,81,49,64]\n",
    "root=[math.sqrt(n) for n in num]\n",
    "print(root)"
   ]
  },
  {
   "cell_type": "markdown",
   "id": "6a8ff137",
   "metadata": {},
   "source": [
    "4.\tCreate a Python program that uses the `map()` function to convert a list of names to uppercase.\n"
   ]
  },
  {
   "cell_type": "code",
   "execution_count": 35,
   "id": "0e1e5382",
   "metadata": {},
   "outputs": [
    {
     "name": "stdout",
     "output_type": "stream",
     "text": [
      "['HEY', 'BIPUL', 'I KNOW', 'YOU', 'GOT', 'THIS', 'COURSE', 'AFTER', 'HARDWORK']\n"
     ]
    }
   ],
   "source": [
    "def toUpper(strg):\n",
    "    return strg.upper()\n",
    "\n",
    "myList=['hey', 'bipul', 'i know', 'you', 'got', 'this', 'course', 'after', 'hardwork']\n",
    "print(list(map(toUpper,myList)))"
   ]
  },
  {
   "cell_type": "markdown",
   "id": "8ab68751",
   "metadata": {},
   "source": [
    "5.\tWrite a Python program that uses the `map()` function to calculate the length of each word in a list of strings.\n"
   ]
  },
  {
   "cell_type": "code",
   "execution_count": 36,
   "id": "036ef445",
   "metadata": {},
   "outputs": [
    {
     "name": "stdout",
     "output_type": "stream",
     "text": [
      "[3, 5, 6, 3, 3, 4, 6, 5, 8]\n"
     ]
    }
   ],
   "source": [
    "def length_of_each_word(word):\n",
    "    return len(word)\n",
    "\n",
    "myList=['HEY', 'BIPUL', 'I KNOW', 'YOU', 'GOT', 'THIS', 'COURSE', 'AFTER', 'HARDWORK']\n",
    "print(list(map(length_of_each_word,myList)))"
   ]
  },
  {
   "cell_type": "markdown",
   "id": "f40fff16",
   "metadata": {},
   "source": [
    "6.\tHow can you use the `map()` function to apply a custom function to elements of multiple lists simultaneously in Python?\n"
   ]
  },
  {
   "cell_type": "code",
   "execution_count": 37,
   "id": "9d6b52d2",
   "metadata": {},
   "outputs": [
    {
     "name": "stdout",
     "output_type": "stream",
     "text": [
      "[1.0, 2.0, 3.0]\n"
     ]
    }
   ],
   "source": [
    "def div(x,y):\n",
    "    return x/y\n",
    "l1=[2,4,6]\n",
    "l2=[2,2,2]\n",
    "\n",
    "print(list(map(div,l1,l2)))"
   ]
  },
  {
   "cell_type": "markdown",
   "id": "3349a85e",
   "metadata": {},
   "source": [
    "7.\tCreate a Python program that uses `map()` to convert a list of temperatures from Celsius to Fahrenheit.\n"
   ]
  },
  {
   "cell_type": "code",
   "execution_count": 38,
   "id": "b3c33275",
   "metadata": {},
   "outputs": [
    {
     "name": "stdout",
     "output_type": "stream",
     "text": [
      "Temperature in Farenheit is : [75.2, 82.4, 93.2]\n"
     ]
    }
   ],
   "source": [
    "tempC =[24,28,34]\n",
    "def temp_conv(temp):\n",
    "    return temp*1.8+32\n",
    "print(f\"Temperature in Farenheit is : {list(map(temp_conv,tempC))}\")"
   ]
  },
  {
   "cell_type": "markdown",
   "id": "8cb543e9",
   "metadata": {},
   "source": [
    "8.\tWrite a Python program that uses the `map()` function to round each element of a list of floating-point numbers to the nearest integer."
   ]
  },
  {
   "cell_type": "code",
   "execution_count": 39,
   "id": "86156962",
   "metadata": {},
   "outputs": [
    {
     "name": "stdout",
     "output_type": "stream",
     "text": [
      "Rounded number is 25\n",
      "Rounded number is 29\n",
      "Rounded number is 34\n",
      "Rounded number is 90\n",
      "Rounded number is 13\n"
     ]
    }
   ],
   "source": [
    "def round_to_nearest_integer(number):\n",
    "    return round(number)\n",
    "\n",
    "numbers = [24.99,28.79,34.34,89.982,12.86]\n",
    "rounded_numbers = map(round_to_nearest_integer, numbers)\n",
    "\n",
    "for number in rounded_numbers:\n",
    "  print(\"Rounded number is\",number)\n"
   ]
  },
  {
   "cell_type": "markdown",
   "id": "43d1fc23",
   "metadata": {},
   "source": [
    "## Reduce :-"
   ]
  },
  {
   "cell_type": "markdown",
   "id": "51a303d5",
   "metadata": {},
   "source": [
    "1.\tWhat is the `reduce()` function in Python, and what module should you import to use it? Provide an example of its basic usage.\n",
    "\n"
   ]
  },
  {
   "cell_type": "code",
   "execution_count": 40,
   "id": "730301eb",
   "metadata": {},
   "outputs": [
    {
     "name": "stdout",
     "output_type": "stream",
     "text": [
      "-20\n"
     ]
    }
   ],
   "source": [
    "from functools import reduce\n",
    "\n",
    "def negative_number(num):\n",
    "    return reduce(lambda x,y: x-y, num)\n",
    "\n",
    "num_List=[10, 9, 8, 7, 6]\n",
    "print(negative_number(num_List))"
   ]
  },
  {
   "cell_type": "markdown",
   "id": "4908f621",
   "metadata": {},
   "source": [
    "2.\tWrite a Python program that uses the `reduce()` function to find the product of all elements in a list.\n"
   ]
  },
  {
   "cell_type": "code",
   "execution_count": 41,
   "id": "ff316455",
   "metadata": {},
   "outputs": [
    {
     "name": "stdout",
     "output_type": "stream",
     "text": [
      "3024000000\n"
     ]
    }
   ],
   "source": [
    "from functools import reduce\n",
    "\n",
    "def product(num):\n",
    "    return reduce(lambda x,y: x*y, num)\n",
    "\n",
    "num_List=[100, 90, 80, 70, 60]\n",
    "print(product(num_List))"
   ]
  },
  {
   "cell_type": "markdown",
   "id": "40e21535",
   "metadata": {},
   "source": [
    "3.\tCreate a Python program that uses `reduce()` to find the maximum element in a list of numbers.\n"
   ]
  },
  {
   "cell_type": "code",
   "execution_count": 42,
   "id": "b2d760c1",
   "metadata": {},
   "outputs": [
    {
     "name": "stdout",
     "output_type": "stream",
     "text": [
      "100\n"
     ]
    }
   ],
   "source": [
    "from functools import reduce\n",
    "\n",
    "def max_element(num):\n",
    "    return reduce(lambda x,y: x if x>y else y, num)\n",
    "\n",
    "num_List=[100, 90, 80, 70, 60]\n",
    "print(max_element(num_List))"
   ]
  },
  {
   "cell_type": "markdown",
   "id": "2fa7b1fb",
   "metadata": {},
   "source": [
    "4.\tHow can you use the `reduce()` function to concatenate a list of strings into a single string?\n"
   ]
  },
  {
   "cell_type": "code",
   "execution_count": 43,
   "id": "7d8a7292",
   "metadata": {},
   "outputs": [
    {
     "name": "stdout",
     "output_type": "stream",
     "text": [
      "HEYBIPULI KNOWYOUGOTTHISCOURSEAFTERHARDWORK\n"
     ]
    }
   ],
   "source": [
    "def concat(strng):\n",
    "    return reduce(lambda x,y: x+y, strng)\n",
    "myList=['HEY', 'BIPUL', 'I KNOW', 'YOU', 'GOT', 'THIS', 'COURSE', 'AFTER', 'HARDWORK']\n",
    "print(concat(myList))"
   ]
  },
  {
   "cell_type": "markdown",
   "id": "fd8710c0",
   "metadata": {},
   "source": [
    "5.\tWrite a Python program that calculates the factorial of a number using the `reduce()` function.\n"
   ]
  },
  {
   "cell_type": "code",
   "execution_count": 44,
   "id": "133a5428",
   "metadata": {},
   "outputs": [
    {
     "name": "stdout",
     "output_type": "stream",
     "text": [
      "You want factorial of: 7\n",
      "Factorial of 7 : 5040\n"
     ]
    }
   ],
   "source": [
    "def fact(num):\n",
    "    return reduce(lambda x,y:x*y, range(1,num+1))\n",
    "\n",
    "num=int(input(\"You want factorial of: \"))\n",
    "\n",
    "print(f\"Factorial of {num} : {fact(num)}\")"
   ]
  },
  {
   "cell_type": "markdown",
   "id": "0d76f347",
   "metadata": {},
   "source": [
    "6.\tCreate a Python program that uses `reduce()` to find the GCD (Greatest Common Divisor) of a list of numbers.\n"
   ]
  },
  {
   "cell_type": "code",
   "execution_count": 45,
   "id": "4dd1112c",
   "metadata": {},
   "outputs": [
    {
     "name": "stdout",
     "output_type": "stream",
     "text": [
      "34\n",
      "24\n"
     ]
    }
   ],
   "source": [
    "def gcd_reduce(num):\n",
    "    return reduce(lambda x,y: x if x%y==0 else y,num)\n",
    "\n",
    "print(gcd_reduce([882,224,34]))\n",
    "print(gcd_reduce([12,18,24]))"
   ]
  },
  {
   "cell_type": "markdown",
   "id": "ccbd8e50",
   "metadata": {},
   "source": [
    "7.\tWrite a Python program that uses the `reduce()` function to find the sum of the digits of a given number."
   ]
  },
  {
   "cell_type": "code",
   "execution_count": 46,
   "id": "307c6195",
   "metadata": {},
   "outputs": [
    {
     "name": "stdout",
     "output_type": "stream",
     "text": [
      "400\n"
     ]
    }
   ],
   "source": [
    "from functools import reduce\n",
    "\n",
    "def Sum(num):\n",
    "    return reduce(lambda x,y: x+y, num)\n",
    "\n",
    "num_List=[100, 90, 80, 70, 60]\n",
    "print(Sum(num_List))"
   ]
  },
  {
   "cell_type": "markdown",
   "id": "a5151c79",
   "metadata": {},
   "source": [
    "## Filter :-"
   ]
  },
  {
   "cell_type": "markdown",
   "id": "0d4eee3a",
   "metadata": {},
   "source": [
    "1.\tExplain the purpose of the `filter()` function in Python and provide an example of how it can be used to filter elements from an iterable.\n",
    "\n"
   ]
  },
  {
   "cell_type": "code",
   "execution_count": 47,
   "id": "2c734b06",
   "metadata": {},
   "outputs": [
    {
     "name": "stdout",
     "output_type": "stream",
     "text": [
      "[3, 5, 93]\n"
     ]
    }
   ],
   "source": [
    "def isOdd(n):\n",
    "    return n%2!=0\n",
    "lst= [2,3,4,5,6,88,93]\n",
    "\n",
    "print(list(filter(isOdd,lst))) #it takes function & iterable as parameter"
   ]
  },
  {
   "cell_type": "markdown",
   "id": "9e4fb174",
   "metadata": {},
   "source": [
    "2.\tWrite a Python program that uses the `filter()` function to select even numbers from a list of integers.\n"
   ]
  },
  {
   "cell_type": "code",
   "execution_count": 48,
   "id": "bd94facd",
   "metadata": {},
   "outputs": [
    {
     "name": "stdout",
     "output_type": "stream",
     "text": [
      "[2, 4, 6, 88]\n"
     ]
    }
   ],
   "source": [
    "def isEven(n):\n",
    "    return n%2==0\n",
    "lst= [2,3,4,5,6,88,93]\n",
    "\n",
    "print(list(filter(isEven,lst))) #it takes function & iterable as parameter"
   ]
  },
  {
   "cell_type": "markdown",
   "id": "ee035242",
   "metadata": {},
   "source": [
    "3.\tCreate a Python program that uses the `filter()` function to select names that start with a specific letter from a list of strings.\n"
   ]
  },
  {
   "cell_type": "code",
   "execution_count": 49,
   "id": "143971df",
   "metadata": {},
   "outputs": [
    {
     "name": "stdout",
     "output_type": "stream",
     "text": [
      "Names starting with 'a':\n",
      "alya\n",
      "Abhraham\n"
     ]
    }
   ],
   "source": [
    "\n",
    "def starts_with_letter(letter, name):\n",
    "    name= name.lower()\n",
    "    return name.startswith(letter)\n",
    "\n",
    "names=[\"alya\",\"jacob\",\"Sunita\",\"Abhraham\"]\n",
    "\n",
    "selected_letter = \"a\" # must be lower case char\n",
    "\n",
    "filtered_names_list = list(filter(lambda name: starts_with_letter(selected_letter, name), names))\n",
    "\n",
    "print(f\"Names starting with '{selected_letter}':\")\n",
    "for name in filtered_names_list:\n",
    "    print(name)\n"
   ]
  },
  {
   "cell_type": "markdown",
   "id": "799bbdab",
   "metadata": {},
   "source": [
    "4.\tWrite a Python program that uses the `filter()` function to select prime numbers from a list of integers.\n"
   ]
  },
  {
   "cell_type": "code",
   "execution_count": 50,
   "id": "f34ae09c",
   "metadata": {},
   "outputs": [
    {
     "name": "stdout",
     "output_type": "stream",
     "text": [
      "[41, 43, 47, 53, 59, 61, 67, 71, 73, 79, 83, 89, 97, 11, 103, 107, 109, 113, 127, 131, 13]\n"
     ]
    }
   ],
   "source": [
    "list_num = [84, 41, 43, 47, 53, 59, 61, 67, 71, 73, 79, 83, 89, 97, 11, 103, 107, 109, 113, 127, 131, 13]\n",
    "def is_prime(num):\n",
    "    for i in range(2,int(num**0.5)+1):\n",
    "        if num%i==0:\n",
    "            return False\n",
    "    return True\n",
    "\n",
    "def check_list(list_num):\n",
    "    return list(filter(is_prime,list_num))\n",
    "\n",
    "print(check_list(list_num))\n",
    "        \n"
   ]
  },
  {
   "cell_type": "markdown",
   "id": "ce0f2cd7",
   "metadata": {},
   "source": [
    "5.\tHow can you use the `filter()` function to remove None values from a list in Python?\n"
   ]
  },
  {
   "cell_type": "code",
   "execution_count": 51,
   "id": "dd5cdf3b",
   "metadata": {},
   "outputs": [
    {
     "data": {
      "text/plain": [
       "[3, 5, 6, 12, 99, 83]"
      ]
     },
     "execution_count": 51,
     "metadata": {},
     "output_type": "execute_result"
    }
   ],
   "source": [
    "def remove_none(val):\n",
    "    return list(filter(lambda x: x is not None,val))\n",
    "\n",
    "myList=[3, 5, 6, None, 12, None, 99, 83, None]\n",
    "remove_none(myList)"
   ]
  },
  {
   "cell_type": "markdown",
   "id": "21c64706",
   "metadata": {},
   "source": [
    "6.\tCreate a Python program that uses `filter()` to select words longer than a certain length from a list of strings.\n"
   ]
  },
  {
   "cell_type": "code",
   "execution_count": 52,
   "id": "f2528d15",
   "metadata": {},
   "outputs": [
    {
     "data": {
      "text/plain": [
       "['Bipul', 'enrollment', 'PWSKILLS', 'September']"
      ]
     },
     "execution_count": 52,
     "metadata": {},
     "output_type": "execute_result"
    }
   ],
   "source": [
    "def word_len(string):\n",
    "    return list(filter(lambda x: len(x)>4, string))\n",
    "\n",
    "str_list= ['Bipul', 'has', 'got', 'enrollment', 'in', 'PWSKILLS', 'on', 'September']\n",
    "\n",
    "word_len(str_list)"
   ]
  },
  {
   "cell_type": "markdown",
   "id": "006022e3",
   "metadata": {},
   "source": [
    "7.\tWrite a Python program that uses the `filter()` function to select elements greater than a specified threshold from a list of values."
   ]
  },
  {
   "cell_type": "code",
   "execution_count": 53,
   "id": "3112627c",
   "metadata": {},
   "outputs": [
    {
     "name": "stdout",
     "output_type": "stream",
     "text": [
      "[103, 107, 109, 113, 127, 131]\n"
     ]
    }
   ],
   "source": [
    "new_List= [41, 43, 47, 53, 59, 61, 67, 71, 73, 79, 83, 89, 97, 11, 103, 107, 109, 113, 127, 131, 13]\n",
    "lim=100\n",
    "def threshold_limit(num, lim):\n",
    "    return list(filter(lambda x: x>=lim,num))\n",
    "\n",
    "print(threshold_limit(new_List,lim))"
   ]
  },
  {
   "cell_type": "markdown",
   "id": "689e167d",
   "metadata": {},
   "source": [
    "## Recursion:-\n",
    "\n",
    "\n"
   ]
  },
  {
   "cell_type": "markdown",
   "id": "6653ad6a",
   "metadata": {},
   "source": [
    "1.\tExplain the concept of recursion in Python. How does it differ from iteration?\n"
   ]
  },
  {
   "cell_type": "markdown",
   "id": "c4c0ab69",
   "metadata": {},
   "source": [
    "## Ans:\n",
    "\n",
    "\t\t1. FUnction Calling itself to achieve the goal\n",
    "      \n",
    "        2. In Iteration a loop is used to repeatedly execute a block of code. Loops are typically used to perform a task on each element of a list or other iterable object."
   ]
  },
  {
   "cell_type": "markdown",
   "id": "2dc50cb0",
   "metadata": {},
   "source": [
    "2.\tWrite a Python program to calculate the factorial of a number using recursion.\n"
   ]
  },
  {
   "cell_type": "code",
   "execution_count": 54,
   "id": "e6c2e754",
   "metadata": {},
   "outputs": [
    {
     "name": "stdout",
     "output_type": "stream",
     "text": [
      "Factorial is: 120\n"
     ]
    }
   ],
   "source": [
    "def factorial(num):\n",
    "    if num==0:\n",
    "        return 1\n",
    "    else:\n",
    "        return num*factorial(num-1)\n",
    "print(f\"Factorial is: {factorial(5)}\")"
   ]
  },
  {
   "cell_type": "markdown",
   "id": "781592eb",
   "metadata": {},
   "source": [
    "3.\tCreate a recursive Python function to find the nth Fibonacci number.\n"
   ]
  },
  {
   "cell_type": "code",
   "execution_count": 1,
   "id": "f50ecd8c",
   "metadata": {},
   "outputs": [
    {
     "name": "stdout",
     "output_type": "stream",
     "text": [
      "What is your Specified Limit: 15\n"
     ]
    },
    {
     "data": {
      "text/plain": [
       "987"
      ]
     },
     "execution_count": 1,
     "metadata": {},
     "output_type": "execute_result"
    }
   ],
   "source": [
    "f=0\n",
    "s=1\n",
    "def fibonnacci_recursion(num):\n",
    "    if num <= 0:\n",
    "        raise ValueError(\"Input must be a positive integer.\")\n",
    "    elif num == 0 or num==1 or num==2:\n",
    "        return num\n",
    "    else:\n",
    "        return fibonnacci_recursion(num-1)+fibonnacci_recursion(num-2)\n",
    "    \n",
    "fibo= int(input(\"What is your Specified Limit: \"))\n",
    "fibonnacci_recursion(fibo)"
   ]
  },
  {
   "cell_type": "markdown",
   "id": "0a4f8d7a",
   "metadata": {},
   "source": [
    "4.\tWrite a recursive Python function to calculate the sum of all elements in a list.\n"
   ]
  },
  {
   "cell_type": "code",
   "execution_count": 2,
   "id": "9bbed6b0",
   "metadata": {},
   "outputs": [
    {
     "name": "stdout",
     "output_type": "stream",
     "text": [
      "[2, 3, 4, 5]\n",
      "[3, 4, 5]\n",
      "[4, 5]\n",
      "[5]\n",
      "[]\n",
      "Sum is:  15\n"
     ]
    }
   ],
   "source": [
    "def add(l):\n",
    "    if len(l)==0:\n",
    "        return 0\n",
    "    else:\n",
    "        print(l[1:])\n",
    "        return l[0]+add(l[1:])\n",
    "myList = [1,2,3,4,5]\n",
    "print(\"Sum is: \",add(myList))"
   ]
  },
  {
   "cell_type": "markdown",
   "id": "491df904",
   "metadata": {},
   "source": [
    "5.\tHow can you prevent a recursive function from running indefinitely, causing a stack overflow error?\n"
   ]
  },
  {
   "cell_type": "markdown",
   "id": "c3b532e9",
   "metadata": {},
   "source": [
    "## Ans:\n",
    "       In above case of Factorial of a number has a base case of n==1 which returns 1 without making recursive call. Hence its mandatory to keep the  base case which ensures that the function will terminate even if n is very large number\n",
    "\n",
    "      1.Avoid using recursion to solve problems that can be solved iteratively. Iterative solutions are typically more efficient and less likely to cause stack overflows.\n",
    "    \n",
    "      2.Break down large problems into smaller subproblems. This will make the recursive function easier to understand and debug.\n",
    "\n",
    "      3.Use memoization to store the results of previous recursive calls. This can improve the performance of the recursive function and reduce the risk of a stack overflow."
   ]
  },
  {
   "cell_type": "markdown",
   "id": "27229cce",
   "metadata": {},
   "source": [
    "6.\tCreate a recursive Python function to find the greatest common divisor (GCD) of two numbers using the Euclidean algorithm.\n"
   ]
  },
  {
   "cell_type": "code",
   "execution_count": 3,
   "id": "65594de1",
   "metadata": {},
   "outputs": [
    {
     "name": "stdout",
     "output_type": "stream",
     "text": [
      "14\n"
     ]
    }
   ],
   "source": [
    "def gcd(a,b):\n",
    "    if b==0:\n",
    "        return a\n",
    "    else:\n",
    "        return gcd(b, a%b)\n",
    "    \n",
    "print(gcd(42, 56))"
   ]
  },
  {
   "cell_type": "markdown",
   "id": "e45895d6",
   "metadata": {},
   "source": [
    "7.\tWrite a recursive Python function to reverse a string.\n"
   ]
  },
  {
   "cell_type": "code",
   "execution_count": 5,
   "id": "067fdb45",
   "metadata": {},
   "outputs": [
    {
     "name": "stdout",
     "output_type": "stream",
     "text": [
      "Enter a String to find its reverse: Ghajani\n",
      "inajahG\n"
     ]
    }
   ],
   "source": [
    "string=input(\"Enter a String to find its reverse: \")\n",
    "\n",
    "def rev(str):\n",
    "    if len(str)==0:\n",
    "        return str\n",
    "    else:\n",
    "        return rev(str[1:]) + str[0]\n",
    "   \n",
    "\n",
    "print(rev(string))"
   ]
  },
  {
   "cell_type": "markdown",
   "id": "74b0e7a9",
   "metadata": {},
   "source": [
    "8.\tCreate a recursive Python function to calculate the power of a number (x^n).\n"
   ]
  },
  {
   "cell_type": "code",
   "execution_count": 6,
   "id": "ac89f610",
   "metadata": {},
   "outputs": [
    {
     "name": "stdout",
     "output_type": "stream",
     "text": [
      "2^-3 = 0.125\n"
     ]
    }
   ],
   "source": [
    "def power(x, n):\n",
    "    if n == 0:\n",
    "        return 1\n",
    "    elif n<0:\n",
    "        return 1 / power(x,-n)\n",
    "    else:\n",
    "        return x * power(x, n - 1)\n",
    "\n",
    "# Test the power function\n",
    "x = 2\n",
    "n = -3\n",
    "result = power(x, n)\n",
    "print(f\"{x}^{n} = {result}\")"
   ]
  },
  {
   "cell_type": "markdown",
   "id": "feb73046",
   "metadata": {},
   "source": [
    "9.\tWrite a recursive Python function to find all permutations of a given string.\n"
   ]
  },
  {
   "cell_type": "code",
   "execution_count": 7,
   "id": "e41f0752",
   "metadata": {},
   "outputs": [
    {
     "name": "stdout",
     "output_type": "stream",
     "text": [
      "All permutations: ['abc', 'acb', 'bac', 'bca', 'cab', 'cba']\n"
     ]
    }
   ],
   "source": [
    "def find_permutations(s, current_permutation=\"\", permutations=[]):\n",
    "\n",
    "    if len(s) == 0:\n",
    "        permutations.append(current_permutation)\n",
    "        return\n",
    "\n",
    "    for i in range(len(s)):\n",
    "        # Choose a character to add to the current permutation\n",
    "        char = s[i]\n",
    "        # Create a new string with the chosen character removed\n",
    "        remaining_chars = s[:i] + s[i+1:]\n",
    "        \n",
    "        # Recursive call to find permutations with the remaining characters\n",
    "        find_permutations(remaining_chars, current_permutation + char, permutations)\n",
    "\n",
    "    return permutations\n",
    "\n",
    "# Example usage:\n",
    "input_string = \"abc\"\n",
    "all_permutations = find_permutations(input_string)\n",
    "print(\"All permutations:\", all_permutations)\n"
   ]
  },
  {
   "cell_type": "markdown",
   "id": "79160dd4",
   "metadata": {},
   "source": [
    "10.\tWrite a recursive Python function to check if a string is a palindrome.\n"
   ]
  },
  {
   "cell_type": "code",
   "execution_count": 8,
   "id": "901324a3",
   "metadata": {},
   "outputs": [
    {
     "name": "stdout",
     "output_type": "stream",
     "text": [
      "'racecar' is a palindrome.\n"
     ]
    }
   ],
   "source": [
    "def is_palindrome_recursive(s):\n",
    "  \n",
    "    if len(s) <= 1:\n",
    "        return True\n",
    "    \n",
    "    if s[0] != s[-1]:\n",
    "        return False\n",
    "    \n",
    "    return is_palindrome_recursive(s[1:-1])\n",
    "\n",
    "input_string = \"racecar\"\n",
    "result = is_palindrome_recursive(input_string)\n",
    "\n",
    "if result:\n",
    "    print(f\"'{input_string}' is a palindrome.\")\n",
    "else:\n",
    "    print(f\"'{input_string}' is not a palindrome.\")\n"
   ]
  },
  {
   "cell_type": "markdown",
   "id": "d70ad9b8",
   "metadata": {},
   "source": [
    "11.\tCreate a recursive Python function to generate all possible combinations of a list of elements. query@ineuron.ai"
   ]
  },
  {
   "cell_type": "code",
   "execution_count": 9,
   "id": "9855e482",
   "metadata": {},
   "outputs": [
    {
     "name": "stdout",
     "output_type": "stream",
     "text": [
      "0\n",
      "curr Comb[:]:  []\n",
      "Final Combination [[]]\n",
      "i: 0 element : 1 curr Comb 1: [1]\n",
      "1\n",
      "curr Comb[:]:  [1]\n",
      "Final Combination [[], [1]]\n",
      "i: 1 element : 2 curr Comb 1: [1, 2]\n",
      "2\n",
      "curr Comb[:]:  [1, 2]\n",
      "Final Combination [[], [1], [1, 2]]\n",
      "i: 2 element : 3 curr Comb 1: [1, 2, 3]\n",
      "3\n",
      "curr Comb[:]:  [1, 2, 3]\n",
      "Final Combination [[], [1], [1, 2], [1, 2, 3]]\n",
      "i: 3 element : 4 curr Comb 1: [1, 2, 3, 4]\n",
      "4\n",
      "curr Comb[:]:  [1, 2, 3, 4]\n",
      "Final Combination [[], [1], [1, 2], [1, 2, 3], [1, 2, 3, 4]]\n",
      "i: 3  After Pop curr Comb 2: [1, 2, 3]\n",
      "i: 2  After Pop curr Comb 2: [1, 2]\n",
      "i: 3 element : 4 curr Comb 1: [1, 2, 4]\n",
      "4\n",
      "curr Comb[:]:  [1, 2, 4]\n",
      "Final Combination [[], [1], [1, 2], [1, 2, 3], [1, 2, 3, 4], [1, 2, 4]]\n",
      "i: 3  After Pop curr Comb 2: [1, 2]\n",
      "i: 1  After Pop curr Comb 2: [1]\n",
      "i: 2 element : 3 curr Comb 1: [1, 3]\n",
      "3\n",
      "curr Comb[:]:  [1, 3]\n",
      "Final Combination [[], [1], [1, 2], [1, 2, 3], [1, 2, 3, 4], [1, 2, 4], [1, 3]]\n",
      "i: 3 element : 4 curr Comb 1: [1, 3, 4]\n",
      "4\n",
      "curr Comb[:]:  [1, 3, 4]\n",
      "Final Combination [[], [1], [1, 2], [1, 2, 3], [1, 2, 3, 4], [1, 2, 4], [1, 3], [1, 3, 4]]\n",
      "i: 3  After Pop curr Comb 2: [1, 3]\n",
      "i: 2  After Pop curr Comb 2: [1]\n",
      "i: 3 element : 4 curr Comb 1: [1, 4]\n",
      "4\n",
      "curr Comb[:]:  [1, 4]\n",
      "Final Combination [[], [1], [1, 2], [1, 2, 3], [1, 2, 3, 4], [1, 2, 4], [1, 3], [1, 3, 4], [1, 4]]\n",
      "i: 3  After Pop curr Comb 2: [1]\n",
      "i: 0  After Pop curr Comb 2: []\n",
      "i: 1 element : 2 curr Comb 1: [2]\n",
      "2\n",
      "curr Comb[:]:  [2]\n",
      "Final Combination [[], [1], [1, 2], [1, 2, 3], [1, 2, 3, 4], [1, 2, 4], [1, 3], [1, 3, 4], [1, 4], [2]]\n",
      "i: 2 element : 3 curr Comb 1: [2, 3]\n",
      "3\n",
      "curr Comb[:]:  [2, 3]\n",
      "Final Combination [[], [1], [1, 2], [1, 2, 3], [1, 2, 3, 4], [1, 2, 4], [1, 3], [1, 3, 4], [1, 4], [2], [2, 3]]\n",
      "i: 3 element : 4 curr Comb 1: [2, 3, 4]\n",
      "4\n",
      "curr Comb[:]:  [2, 3, 4]\n",
      "Final Combination [[], [1], [1, 2], [1, 2, 3], [1, 2, 3, 4], [1, 2, 4], [1, 3], [1, 3, 4], [1, 4], [2], [2, 3], [2, 3, 4]]\n",
      "i: 3  After Pop curr Comb 2: [2, 3]\n",
      "i: 2  After Pop curr Comb 2: [2]\n",
      "i: 3 element : 4 curr Comb 1: [2, 4]\n",
      "4\n",
      "curr Comb[:]:  [2, 4]\n",
      "Final Combination [[], [1], [1, 2], [1, 2, 3], [1, 2, 3, 4], [1, 2, 4], [1, 3], [1, 3, 4], [1, 4], [2], [2, 3], [2, 3, 4], [2, 4]]\n",
      "i: 3  After Pop curr Comb 2: [2]\n",
      "i: 1  After Pop curr Comb 2: []\n",
      "i: 2 element : 3 curr Comb 1: [3]\n",
      "3\n",
      "curr Comb[:]:  [3]\n",
      "Final Combination [[], [1], [1, 2], [1, 2, 3], [1, 2, 3, 4], [1, 2, 4], [1, 3], [1, 3, 4], [1, 4], [2], [2, 3], [2, 3, 4], [2, 4], [3]]\n",
      "i: 3 element : 4 curr Comb 1: [3, 4]\n",
      "4\n",
      "curr Comb[:]:  [3, 4]\n",
      "Final Combination [[], [1], [1, 2], [1, 2, 3], [1, 2, 3, 4], [1, 2, 4], [1, 3], [1, 3, 4], [1, 4], [2], [2, 3], [2, 3, 4], [2, 4], [3], [3, 4]]\n",
      "i: 3  After Pop curr Comb 2: [3]\n",
      "i: 2  After Pop curr Comb 2: []\n",
      "i: 3 element : 4 curr Comb 1: [4]\n",
      "4\n",
      "curr Comb[:]:  [4]\n",
      "Final Combination [[], [1], [1, 2], [1, 2, 3], [1, 2, 3, 4], [1, 2, 4], [1, 3], [1, 3, 4], [1, 4], [2], [2, 3], [2, 3, 4], [2, 4], [3], [3, 4], [4]]\n",
      "i: 3  After Pop curr Comb 2: []\n",
      "[[], [1], [1, 2], [1, 2, 3], [1, 2, 3, 4], [1, 2, 4], [1, 3], [1, 3, 4], [1, 4], [2], [2, 3], [2, 3, 4], [2, 4], [3], [3, 4], [4]]\n"
     ]
    }
   ],
   "source": [
    "def generate_combinations(elements):\n",
    "    \n",
    "    def backtrack(start, current_combination):\n",
    "        print(start)\n",
    "        print(\"curr Comb[:]: \",current_combination[:])\n",
    "        \n",
    "        combinations.append(current_combination[:])\n",
    "        print(\"Final Combination\",combinations)\n",
    "        for i in range(start, len(elements)):\n",
    "            current_combination.append(elements[i])\n",
    "            print(f\"i: {i} element : {elements[i]} curr Comb 1: {current_combination}\")\n",
    "            backtrack(i + 1, current_combination)\n",
    "            current_combination.pop()\n",
    "            print(f\"i: {i}  After Pop curr Comb 2: {current_combination}\")\n",
    "    combinations = []\n",
    "    backtrack(0, [])\n",
    "    return combinations\n",
    "\n",
    "# Example usage:\n",
    "elements = [1, 2, 3, 4]\n",
    "result = generate_combinations(elements)\n",
    "print(result)"
   ]
  },
  {
   "cell_type": "markdown",
   "id": "825ed331",
   "metadata": {},
   "source": [
    "## Basics of Functions:"
   ]
  },
  {
   "cell_type": "markdown",
   "id": "c3cd79d5",
   "metadata": {},
   "source": [
    "1.\tWhat is a function in Python, and why is it used?\n",
    "\n"
   ]
  },
  {
   "cell_type": "markdown",
   "id": "c65e284b",
   "metadata": {},
   "source": [
    "Ans:\n",
    "    \n",
    "    Block of code that performs a specific task.\n",
    "    \n",
    "\tIdeally we used to organize your code, make it more reusable, and easier to read.\n",
    "\n",
    "\tFunctions can be defined anywhere in your code, but they are typically defined at the beginning of a file or module.\n",
    "    \n",
    "    If required it can take arguments and return values."
   ]
  },
  {
   "cell_type": "markdown",
   "id": "0179da30",
   "metadata": {},
   "source": [
    "2.\tHow do you define a function in Python? Provide an example.\n"
   ]
  },
  {
   "cell_type": "code",
   "execution_count": 10,
   "id": "e9595e68",
   "metadata": {},
   "outputs": [
    {
     "name": "stdout",
     "output_type": "stream",
     "text": [
      "Welcome to Bipul's Assignment & I am a Late Joiner in this Course please check wisely.\n"
     ]
    }
   ],
   "source": [
    "# Funtion with No return type\n",
    "def greet():\n",
    "    print(\"Welcome to Bipul's Assignment & I am a Late Joiner in this Course please check wisely.\")\n",
    "    \n",
    "greet()"
   ]
  },
  {
   "cell_type": "markdown",
   "id": "6599ef58",
   "metadata": {},
   "source": [
    "3.\tExplain the difference between a function definition and a function call.\n"
   ]
  },
  {
   "cell_type": "markdown",
   "id": "9a9578a2",
   "metadata": {},
   "source": [
    "Ans:\n",
    "\n",
    "\tFunction Definition: We define at top of the code pannel where we pass argument at the signature of function & utilize the same in that block scope\n",
    "\n",
    "\n",
    "\tFunction Call: We call the same function which had defined earlier by passing dynamic values at runtime to make it reusable\n"
   ]
  },
  {
   "cell_type": "markdown",
   "id": "91b125a5",
   "metadata": {},
   "source": [
    "4.\tWrite a Python program that defines a function to calculate the sum of two numbers and then calls the function.\n"
   ]
  },
  {
   "cell_type": "code",
   "execution_count": 11,
   "id": "b149c25b",
   "metadata": {},
   "outputs": [
    {
     "name": "stdout",
     "output_type": "stream",
     "text": [
      "Summation: 3016\n"
     ]
    }
   ],
   "source": [
    "def sumVal(x,y):\n",
    "    return x+y\n",
    "\n",
    "print(f\"Summation: {sumVal(1024,1992)}\")"
   ]
  },
  {
   "cell_type": "markdown",
   "id": "acfea3e3",
   "metadata": {},
   "source": [
    "5.\tWhat is a function signature, and what information does it typically include?\n"
   ]
  },
  {
   "cell_type": "markdown",
   "id": "25a286e1",
   "metadata": {},
   "source": [
    "Ans:\n",
    "    \n",
    "    Function signature is present after name of function which is in curly braces.\n",
    "    \n",
    "    It includes arguments which when further utilized in that block scope"
   ]
  },
  {
   "cell_type": "markdown",
   "id": "9cda795e",
   "metadata": {},
   "source": [
    "6.\tCreate a Python function that takes two arguments and returns their product."
   ]
  },
  {
   "cell_type": "code",
   "execution_count": 12,
   "id": "5336b3ec",
   "metadata": {},
   "outputs": [
    {
     "name": "stdout",
     "output_type": "stream",
     "text": [
      "Multipication: 2039808\n"
     ]
    }
   ],
   "source": [
    "def product(x,y):\n",
    "    return x*y\n",
    "\n",
    "print(f\"Multipication: {product(1024,1992)}\")"
   ]
  },
  {
   "cell_type": "markdown",
   "id": "a70fd85f",
   "metadata": {},
   "source": [
    "## Function Parameters and Arguments:"
   ]
  },
  {
   "cell_type": "markdown",
   "id": "24401ecc",
   "metadata": {},
   "source": [
    "1.\tExplain the concepts of formal parameters and actual arguments in Python functions.\n",
    "\n"
   ]
  },
  {
   "cell_type": "markdown",
   "id": "d287cd78",
   "metadata": {},
   "source": [
    "Ans:\n",
    "    \n",
    "    Formal parameters are defined within the parentheses of a function definition, while actual arguments are passed to a function when it is called.\n",
    "    \n",
    "    Formal parameters are variables, while actual arguments can be any Python object, such as a variable, a literal value, or an expression.\n",
    "    \n",
    "    The number of formal parameters in a function definition must match the number of actual arguments passed to the function when it is called."
   ]
  },
  {
   "cell_type": "markdown",
   "id": "28145022",
   "metadata": {},
   "source": [
    "2.\tWrite a Python program that defines a function with default argument values.\n"
   ]
  },
  {
   "cell_type": "code",
   "execution_count": 13,
   "id": "ac505311",
   "metadata": {},
   "outputs": [
    {
     "name": "stdout",
     "output_type": "stream",
     "text": [
      "Hello, Bipul Senapati!\n",
      "Hello, Transformers!\n"
     ]
    }
   ],
   "source": [
    "def greet(name=\"Bipul Senapati\"):\n",
    "    return f\"Hello, {name}!\"\n",
    "\n",
    "print(greet())\n",
    "print(greet(\"Transformers\"))\n"
   ]
  },
  {
   "cell_type": "markdown",
   "id": "3f8dcc62",
   "metadata": {},
   "source": [
    "3.\tHow do you use keyword arguments in Python function calls? Provide an example.\n"
   ]
  },
  {
   "cell_type": "code",
   "execution_count": 14,
   "id": "a5b6e53f",
   "metadata": {
    "scrolled": true
   },
   "outputs": [
    {
     "name": "stdout",
     "output_type": "stream",
     "text": [
      "Hello, Bipul! You have paid INR 25000 to PWSkills.\n"
     ]
    }
   ],
   "source": [
    "def greet(name, money):\n",
    "    return f\"Hello, {name}! You have paid INR {money} to PWSkills.\"\n",
    "print(greet(name=\"Bipul\", money=25000))\n"
   ]
  },
  {
   "cell_type": "markdown",
   "id": "98ea7a39",
   "metadata": {},
   "source": [
    "4.\tCreate a Python function that accepts a variable number of arguments and calculates their sum.\n"
   ]
  },
  {
   "cell_type": "code",
   "execution_count": 15,
   "id": "c21b4c5f",
   "metadata": {},
   "outputs": [
    {
     "name": "stdout",
     "output_type": "stream",
     "text": [
      "15\n",
      "6970\n"
     ]
    }
   ],
   "source": [
    "def sum_of_args(*values):\n",
    "    sum=0\n",
    "    for value in values:\n",
    "        sum+= value\n",
    "    return sum\n",
    "print(sum_of_args(1, 2, 3, 4, 5))\n",
    "print(sum_of_args(510, 90, 30, 4740, 1600))"
   ]
  },
  {
   "cell_type": "markdown",
   "id": "a7907fcf",
   "metadata": {},
   "source": [
    "5.\tWhat is the purpose of the `*args` and `**kwargs` syntax in function parameter lists?"
   ]
  },
  {
   "cell_type": "markdown",
   "id": "2127d8c8",
   "metadata": {},
   "source": [
    "Ans:\n",
    "\n",
    "    *args is used to pass a variable number of positional arguments to a function. The *args parameter is a tuple that contains all of the positional arguments that are passed to the function.\n",
    "    \n",
    "    **kwargs is used to pass a variable number of keyword arguments to a function. The **kwargs parameter is a dictionary that contains all of the keyword arguments that are passed to the function.\n",
    "    \n",
    "    We use for maintainability, flexibility & readability"
   ]
  },
  {
   "cell_type": "markdown",
   "id": "8c911001",
   "metadata": {},
   "source": [
    "## Return Values and Scoping:"
   ]
  },
  {
   "cell_type": "markdown",
   "id": "48575b27",
   "metadata": {},
   "source": [
    "1.\tDescribe the role of the `return` statement in Python functions and provide examples.\n",
    "\n",
    "Ans:\n",
    "\n",
    "    It is used to exit the function and return a value to the caller of same function. \n",
    "    \n",
    "    It can be used to return any type of value, including numbers, strings, lists, dictionaries, and other functions."
   ]
  },
  {
   "cell_type": "code",
   "execution_count": 16,
   "id": "5e4561d0",
   "metadata": {},
   "outputs": [
    {
     "name": "stdout",
     "output_type": "stream",
     "text": [
      "14\n",
      "1\n"
     ]
    }
   ],
   "source": [
    "def gcd(a,b):\n",
    "    for i in range(min(a, b), 0, -1):# range(start,stop,step)\n",
    "        if a % i == 0 and b % i == 0:\n",
    "            return i\n",
    "    return 1\n",
    "print(gcd(882,224))\n",
    "print(gcd(87,17))"
   ]
  },
  {
   "cell_type": "markdown",
   "id": "148e6081",
   "metadata": {},
   "source": [
    "2.\tExplain the concept of variable scope in Python, including local and global variables.\n",
    "\n",
    "\n",
    "Ans:\n",
    "\t\n",
    "    In following code fragment `yer` is global scope but `year` is local scope which is only acceable within the function "
   ]
  },
  {
   "cell_type": "code",
   "execution_count": 18,
   "id": "182524b8",
   "metadata": {},
   "outputs": [
    {
     "name": "stdout",
     "output_type": "stream",
     "text": [
      "Enter a year to check if Leap year or not: 2025\n",
      "2025 is NOT a Leap Year\n"
     ]
    }
   ],
   "source": [
    "yer=int(input(\"Enter a year to check if Leap year or not: \"))\n",
    "\n",
    "def is_leap_year(year):\n",
    "    if year%4==0 and (year%100!=0 or year%400==0):\n",
    "        return True\n",
    "    else:\n",
    "        return False\n",
    "\n",
    "if is_leap_year(yer):\n",
    "    print(f\"{yer} is Leap Year\")\n",
    "else:\n",
    "    print(f\"{yer} is NOT a Leap Year\")"
   ]
  },
  {
   "cell_type": "markdown",
   "id": "ffbdb156",
   "metadata": {},
   "source": [
    "3.\tWrite a Python program that demonstrates the use of global variables within functions.\n"
   ]
  },
  {
   "cell_type": "code",
   "execution_count": 19,
   "id": "57b6f1c8",
   "metadata": {},
   "outputs": [
    {
     "name": "stdout",
     "output_type": "stream",
     "text": [
      "12\n",
      "11\n"
     ]
    }
   ],
   "source": [
    "global_variable = 10\n",
    "\n",
    "def add_two_numbers(a, b):\n",
    "    global global_variable\n",
    "    sum = a + b\n",
    "    global_variable += 1\n",
    "    return sum\n",
    "\n",
    "result = add_two_numbers(10, 2)\n",
    "\n",
    "print(result)\n",
    "print(global_variable) # change inside Function is reflecting\n"
   ]
  },
  {
   "cell_type": "markdown",
   "id": "dff080ac",
   "metadata": {},
   "source": [
    "4.\tCreate a Python function that calculates the factorial of a number and returns it.\n"
   ]
  },
  {
   "cell_type": "code",
   "execution_count": 20,
   "id": "cc412a81",
   "metadata": {},
   "outputs": [
    {
     "name": "stdout",
     "output_type": "stream",
     "text": [
      "You want factorial of: 34\n",
      "Factorial of 34 : 295232799039604140847618609643520000000\n"
     ]
    }
   ],
   "source": [
    "def factorial(num):\n",
    "    val=1    \n",
    "    for i in range(num,0,-1):\n",
    "        val*=i\n",
    "    return val\n",
    "\n",
    "num=int(input(\"You want factorial of: \"))\n",
    "\n",
    "print(f\"Factorial of {num} : {factorial(num)}\")"
   ]
  },
  {
   "cell_type": "markdown",
   "id": "761531a0",
   "metadata": {},
   "source": [
    "5.\tHow can you access variables defined outside a function from within the function?"
   ]
  },
  {
   "cell_type": "markdown",
   "id": "5e459b76",
   "metadata": {},
   "source": [
    "## Ans:\n",
    "\n",
    "    1. Function Argument\n",
    "    \n",
    "    2. Using global keyword inside the function"
   ]
  },
  {
   "cell_type": "markdown",
   "id": "a890c19a",
   "metadata": {},
   "source": [
    "## Lambda Functions and Higher-Order Functions:"
   ]
  },
  {
   "cell_type": "markdown",
   "id": "03478812",
   "metadata": {},
   "source": [
    "1.\tWhat are lambda functions in Python, and when are they typically used?\n",
    "\n"
   ]
  },
  {
   "cell_type": "code",
   "execution_count": 22,
   "id": "41258f85",
   "metadata": {},
   "outputs": [
    {
     "name": "stdout",
     "output_type": "stream",
     "text": [
      "108\n"
     ]
    }
   ],
   "source": [
    "#its a short function without name.\n",
    "# ideally used to create more complex function using multiple Lambda func\n",
    "# to implement functional programming pattern like map, reduce, filter\n",
    "\n",
    "sum = lambda x,y:x+y\n",
    "print(sum(9,99))"
   ]
  },
  {
   "cell_type": "markdown",
   "id": "ba308458",
   "metadata": {},
   "source": [
    "2.\tWrite a Python program that uses lambda functions to sort a list of tuples based on the second element.\n"
   ]
  },
  {
   "cell_type": "code",
   "execution_count": 23,
   "id": "018a7355",
   "metadata": {},
   "outputs": [
    {
     "name": "stdout",
     "output_type": "stream",
     "text": [
      "[(99, 9), (2, 14), (41, 83), (7, 771)]\n"
     ]
    }
   ],
   "source": [
    "list_tuple=[(2,14), (99,9), (41, 83), (7,771)]\n",
    "def sort_by_second(num_list):\n",
    "    return sorted(num_list, key=lambda x:x[1]) # returns sorted order of second element in each list of tuples\n",
    "print(list(sort_by_second(list_tuple)))    "
   ]
  },
  {
   "cell_type": "markdown",
   "id": "df4cc66e",
   "metadata": {},
   "source": [
    "3.\tExplain the concept of higher-order functions in Python, and provide an example.\n"
   ]
  },
  {
   "cell_type": "code",
   "execution_count": 24,
   "id": "993050a5",
   "metadata": {},
   "outputs": [
    {
     "name": "stdout",
     "output_type": "stream",
     "text": [
      "101\n"
     ]
    }
   ],
   "source": [
    "# A function that takes other function as argument & returns function as result\n",
    "# Implement y= x^2 + 1 \n",
    "\n",
    "def compose(f, g):\n",
    "    return lambda x: f(g(x))\n",
    "\n",
    "y = compose(lambda x:x+1, lambda x: x**2) \n",
    "# Here compose function takes lambda function as an argument & returns the solution of equation\n",
    "print(y(10))"
   ]
  },
  {
   "cell_type": "markdown",
   "id": "8c781b0e",
   "metadata": {},
   "source": [
    "4.\tCreate a Python function that takes a list of numbers and a function as arguments, applying the function to each element in the list."
   ]
  },
  {
   "cell_type": "code",
   "execution_count": 25,
   "id": "d7abee5f",
   "metadata": {},
   "outputs": [
    {
     "name": "stdout",
     "output_type": "stream",
     "text": [
      "[2321, 45, 29773, 7]\n"
     ]
    }
   ],
   "source": [
    "def isOdd(value):\n",
    "    return value%2!=0\n",
    "\n",
    "num_List=[10, 2321, 45, 76, 92, 29773, 1934, 7]\n",
    "\n",
    "print(list(filter(isOdd,num_List))) # Here filter function takes isodd function as an argument & return type as a list"
   ]
  },
  {
   "cell_type": "markdown",
   "id": "c769f877",
   "metadata": {},
   "source": [
    "## Built-in Functions:"
   ]
  },
  {
   "cell_type": "markdown",
   "id": "1dbf146a",
   "metadata": {},
   "source": [
    "1.\tDescribe the role of built-in functions like `len()`, `max()`, and `min()` in Python.\n",
    "\n"
   ]
  },
  {
   "cell_type": "markdown",
   "id": "d07f1285",
   "metadata": {},
   "source": [
    "## Ans:\n",
    "\n",
    "    1. It is use to perform Common tasks\n",
    "    \n",
    "    2. Eliminate runtime Call\n",
    "    \n",
    "    3. Can be used without importing"
   ]
  },
  {
   "cell_type": "markdown",
   "id": "cdc3e06e",
   "metadata": {},
   "source": [
    "2.\tWrite a Python program that uses the `map()` function to apply a function to each element of a list.\n"
   ]
  },
  {
   "cell_type": "code",
   "execution_count": 26,
   "id": "f604c87d",
   "metadata": {},
   "outputs": [
    {
     "name": "stdout",
     "output_type": "stream",
     "text": [
      "[4, 8, 12, 16, 24, 28, 32, 36]\n"
     ]
    }
   ],
   "source": [
    "def double(num):\n",
    "    return num*2\n",
    "\n",
    "myList=[2,4,6,8,12,14,16,18]\n",
    "print(list(map(double,myList)))"
   ]
  },
  {
   "cell_type": "markdown",
   "id": "8d3a0c7a",
   "metadata": {},
   "source": [
    "3.\tHow does the `filter()` function work in Python, and when would you use it?\n"
   ]
  },
  {
   "cell_type": "code",
   "execution_count": 27,
   "id": "e97329ef",
   "metadata": {},
   "outputs": [
    {
     "name": "stdout",
     "output_type": "stream",
     "text": [
      "[10, 2324, 76, 92, 1934, 6]\n"
     ]
    }
   ],
   "source": [
    "# it is used to filer the elements on given condition. // filter(pre-defined function, iterable)\n",
    "def isEven(value):\n",
    "    return value%2==0\n",
    "\n",
    "num_List=[10, 2324, 45, 76, 92, 29773, 1934, 6]\n",
    "\n",
    "print(list(filter(isEven,num_List)))"
   ]
  },
  {
   "cell_type": "markdown",
   "id": "6c480faf",
   "metadata": {},
   "source": [
    "4.\tCreate a Python program that uses the `reduce()` function to find the product of all elements in a list."
   ]
  },
  {
   "cell_type": "code",
   "execution_count": 28,
   "id": "c270d02a",
   "metadata": {},
   "outputs": [
    {
     "name": "stdout",
     "output_type": "stream",
     "text": [
      "30240\n"
     ]
    }
   ],
   "source": [
    "from functools import reduce\n",
    "\n",
    "def product(num):\n",
    "    return reduce(lambda x,y: x*y, num)\n",
    "\n",
    "num_List=[10, 9, 8, 7, 6]\n",
    "print(product(num_List))"
   ]
  },
  {
   "cell_type": "markdown",
   "id": "5b8aa8b0",
   "metadata": {},
   "source": [
    "## Function Documentation and Best Practices:\n",
    "\n",
    "\n"
   ]
  },
  {
   "cell_type": "markdown",
   "id": "85521512",
   "metadata": {},
   "source": [
    "1.\tExplain the purpose of docstrings in Python functions and how to write them.\n"
   ]
  },
  {
   "cell_type": "markdown",
   "id": "ab4eb334",
   "metadata": {},
   "source": [
    "## Ans:\n",
    "\tTo describe the purpose, usage, and behavior of functions, methods, classes, or modules in order to make code more understandable to others developer who may read or use your code. Docstrings are typically \n",
    "\n",
    "\t.Placed immediately after the definition of the function, method, class, or module.\n",
    "\n",
    "\t.Short documentation expaling code, function details"
   ]
  },
  {
   "cell_type": "markdown",
   "id": "8350aa88",
   "metadata": {},
   "source": [
    "2.\tDescribe some best practices for naming functions and variables in Python, including naming conventions and guidelines."
   ]
  },
  {
   "cell_type": "markdown",
   "id": "8bd03c26",
   "metadata": {},
   "source": [
    "## Ans:\n",
    "Naming function are required for code readability & maintainability\n",
    "\n",
    "Best Practices:\n",
    "\n",
    "    1. Name should be descriptive & singular/plural depending on use case\n",
    "    \n",
    "    2. variable name should be snake case & class name should be Camel case\n",
    "    \n",
    "    3. Consise naming convesntion it should not be too large\n",
    "    \n",
    "    4. avoid abbreviation like HTML\n",
    "    \n",
    "    5. use verb while naming a funtion i.e getData() or calculateAge()\n",
    "    \n",
    "    6. Follow PEP style guides"
   ]
  }
 ],
 "metadata": {
  "kernelspec": {
   "display_name": "Python 3 (ipykernel)",
   "language": "python",
   "name": "python3"
  },
  "language_info": {
   "codemirror_mode": {
    "name": "ipython",
    "version": 3
   },
   "file_extension": ".py",
   "mimetype": "text/x-python",
   "name": "python",
   "nbconvert_exporter": "python",
   "pygments_lexer": "ipython3",
   "version": "3.10.11"
  }
 },
 "nbformat": 4,
 "nbformat_minor": 5
}

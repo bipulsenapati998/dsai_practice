{
 "cells": [
  {
   "cell_type": "markdown",
   "id": "d2947d3d",
   "metadata": {},
   "source": [
    "Problem 1: Bank Account Create a class representing a bank account with attributes like account number, account holder name, and balance. Implement methods to deposit and withdraw money from the account."
   ]
  },
  {
   "cell_type": "code",
   "execution_count": 1,
   "id": "7f118333",
   "metadata": {},
   "outputs": [
    {
     "ename": "NameError",
     "evalue": "name 'bankAccount' is not defined",
     "output_type": "error",
     "traceback": [
      "\u001b[1;31m---------------------------------------------------------------------------\u001b[0m",
      "\u001b[1;31mNameError\u001b[0m                                 Traceback (most recent call last)",
      "Cell \u001b[1;32mIn[1], line 1\u001b[0m\n\u001b[1;32m----> 1\u001b[0m bankAcc\u001b[38;5;241m=\u001b[39m \u001b[43mbankAccount\u001b[49m(\u001b[38;5;241m8895441488\u001b[39m,\u001b[38;5;124m\"\u001b[39m\u001b[38;5;124mPapa Sauce\u001b[39m\u001b[38;5;124m\"\u001b[39m, \u001b[38;5;241m7677\u001b[39m)\n\u001b[0;32m      2\u001b[0m bankAcc\u001b[38;5;241m.\u001b[39mdeposit(\u001b[38;5;241m323\u001b[39m)\n\u001b[0;32m      3\u001b[0m \u001b[38;5;28mprint\u001b[39m(\u001b[38;5;124mf\u001b[39m\u001b[38;5;124m\"\u001b[39m\u001b[38;5;124mAfter Diposited: \u001b[39m\u001b[38;5;132;01m{\u001b[39;00mbankAcc\u001b[38;5;241m.\u001b[39mgetBalance()\u001b[38;5;132;01m}\u001b[39;00m\u001b[38;5;124m\"\u001b[39m)\n",
      "\u001b[1;31mNameError\u001b[0m: name 'bankAccount' is not defined"
     ]
    }
   ],
   "source": [
    "bankAcc= bankAccount(8895441488,\"Papa Sauce\", 7677)\n",
    "bankAcc.deposit(323)\n",
    "print(f\"After Diposited: {bankAcc.getBalance()}\")\n",
    "\n",
    "bankAcc.withdraw(999)\n",
    "print(f\"After Withdraw: {bankAcc.getBalance()}\")\n"
   ]
  },
  {
   "cell_type": "markdown",
   "id": "215b6bf6",
   "metadata": {},
   "source": [
    "Problem 2: Employee Management Create a class representing an employee with attributes like employee ID, name, and salary. Implement methods to calculate the yearly bonus and display employee details.\n",
    "\n"
   ]
  },
  {
   "cell_type": "code",
   "execution_count": null,
   "id": "f3d0e863",
   "metadata": {},
   "outputs": [],
   "source": [
    "class Employee:\n",
    "    def __init__(self, employee_id, name, salary):\n",
    "      self.employee_id = employee_id\n",
    "      self.name = name\n",
    "      self.salary = salary\n",
    "  \n",
    "    def calculate_yearly_bonus(self, bonus_percentage):\n",
    "      bonus = self.salary * bonus_percentage\n",
    "      return bonus\n",
    "  \n",
    "    def display_employee_details(self):\n",
    "      print(\"Employee ID:\", self.employee_id)\n",
    "      print(\"Name:\", self.name)\n",
    "      print(\"Salary:\", self.salary)\n",
    "      print(\"Yearly bonus:\", self.calculate_yearly_bonus(bonus_percentage))\n",
    "\n",
    "# Get the bonus percentage from the user.\n",
    "bonus_percentage = float(input(\"Enter the bonus percentage: \"))\n",
    "\n",
    "# Create an employee object.\n",
    "employee = Employee(926969, \"Imran Hasmi\", 1000)\n",
    "\n",
    "# Calculate the yearly bonus.\n",
    "yearly_bonus = employee.calculate_yearly_bonus(bonus_percentage)\n",
    "\n",
    "# Display the employee details.\n",
    "employee.display_employee_details()\n"
   ]
  },
  {
   "cell_type": "markdown",
   "id": "fecc7c8e",
   "metadata": {},
   "source": [
    "Problem 3: Vehicle Rental Create a class representing a vehicle rental system. Implement methods to rent a vehicle, return a vehicle, and display available vehicles.\n",
    "\n"
   ]
  },
  {
   "cell_type": "code",
   "execution_count": null,
   "id": "221d3fb0",
   "metadata": {},
   "outputs": [],
   "source": [
    "class vehicleRentalSystem:\n",
    "    def __init__(self):\n",
    "        self.available_vehicle={}\n",
    "        \n",
    "    def add_vehicle(self,vehicle_type,quantity):\n",
    "        if vehicle_type in self.available_vehicle:\n",
    "            self.available_vehicle[vehicle_type]+=quantity\n",
    "        else:\n",
    "            self.available_vehicle[vehicle_type]=quantity\n",
    "            \n",
    "    def rent_vehicle(self,vehicle_type,quantity):\n",
    "        if vehicle_type in self.available_vehicle and self.available_vehicle[vehicle_type]>=quantity:\n",
    "            self.available_vehicle[vehicle_type]-=quantity\n",
    "            return True\n",
    "        else:\n",
    "            return False\n",
    "        \n",
    "    def return_vehicle(self,vehicle_type,quantity):\n",
    "        if vehicle_type in self.available_vehicle:\n",
    "            self.available_vehicle[vehicle_type]+=quantity\n",
    "            \n",
    "    def display_available_vehicle(self):\n",
    "        print(\"Available Vehicles:\")\n",
    "        for vehicle_type, quantity in self.available_vehicle.items():\n",
    "            print(f\"{vehicle_type}: {quantity}\")\n",
    "            \n",
    "rentalSystem= vehicleRentalSystem()\n",
    "rentalSystem.add_vehicle(\"car\", 5)\n",
    "rentalSystem.add_vehicle(\"bike\", 10)\n",
    "\n",
    "rentalSystem.display_available_vehicle()\n",
    "\n",
    "if rentalSystem.rent_vehicle(\"car\",2):\n",
    "    print(\"Rental Successful\")\n",
    "else:\n",
    "    print(\"Cars Unavailable\")\n",
    "    \n",
    "rentalSystem.display_available_vehicle()\n"
   ]
  },
  {
   "cell_type": "markdown",
   "id": "bef2ddc8",
   "metadata": {},
   "source": [
    "Problem 4: Library Catalog Create classes representing a library and a book. Implement methods to add books to the library, borrow books, and display available books.\n",
    "\n"
   ]
  },
  {
   "cell_type": "code",
   "execution_count": null,
   "id": "846af84b",
   "metadata": {},
   "outputs": [],
   "source": [
    "class library:\n",
    "    def __init__(self):\n",
    "        self.available_book={}\n",
    "        \n",
    "    def addBooks(self,book_name,quantity):\n",
    "        if book_name in self.available_book:\n",
    "            self.available_book[book_name]+=quantity\n",
    "        else:\n",
    "            self.available_book[book_name]=quantity\n",
    "            \n",
    "    def borrowBooks(self,book_name,quantity):\n",
    "        if book_name in self.available_book and self.available_book[book_name]>=quantity:\n",
    "            self.available_book[book_name]-=quantity\n",
    "            return True\n",
    "        else:\n",
    "            return False\n",
    "        \n",
    "    def displayAvailableBooks(self):\n",
    "        print(\"Available Books\\n\")\n",
    "        for book_name,quantity in self.available_book.items():\n",
    "            print(f\"{book_name}: {quantity}\")\n",
    "            \n",
    "library_books= library()\n",
    "\n",
    "library_books.addBooks(\"History NCERT Book\",10)\n",
    "library_books.addBooks(\"Encyclopedia\",10)\n",
    "library_books.addBooks(\"Story of MK Gandhi\",15)\n",
    "library_books.addBooks(\"Fifty Shades of Grey\",20)\n",
    "library_books.displayAvailableBooks()\n",
    "library_books.borrowBooks(\"Fifty Shades of Grey\",9) \n",
    "print(\"\\n\")\n",
    "library_books.displayAvailableBooks()\n",
    "            "
   ]
  },
  {
   "cell_type": "markdown",
   "id": "cf2af599",
   "metadata": {},
   "source": [
    "Problem 5: Product Inventory Create classes representing a product and an inventory system. Implement methods to add products to the inventory, update product quantity, and display available products.\n",
    "\n"
   ]
  },
  {
   "cell_type": "code",
   "execution_count": null,
   "id": "42d8b857",
   "metadata": {},
   "outputs": [],
   "source": [
    "class Product:\n",
    "    def __init__(self, product_id, name, price, quantity):\n",
    "        self.product_id = product_id\n",
    "        self.name = name\n",
    "        self.price = price\n",
    "        self.quantity = quantity\n",
    "\n",
    "    def __str__(self):\n",
    "        return f\"Product ID: {self.product_id}, Name: {self.name}, Price: {self.price}, Quantity: {self.quantity}\"\n",
    "\n",
    "\n",
    "class InventorySystem:\n",
    "    def __init__(self):\n",
    "        self.inventory = {}  # Dictionary to store products\n",
    "\n",
    "    def add_product(self, product):\n",
    "        self.inventory[product.product_id] = product\n",
    "\n",
    "    def update_quantity(self, product_id, new_quantity):\n",
    "        if product_id in self.inventory:\n",
    "            self.inventory[product_id].quantity = new_quantity\n",
    "\n",
    "    def display_available_products(self):\n",
    "        print(\"Available Products:\")\n",
    "        for product in self.inventory.values():\n",
    "            print(product)\n",
    "\n",
    "\n",
    "# Example usage:\n",
    "product1 = Product(1, \"Laptop\", 999.99, 10)\n",
    "product2 = Product(2, \"Smartphone\", 499.99, 20)\n",
    "product3 = Product(3, \"Tablet\", 299.99, 15)\n",
    "\n",
    "inventory_system = InventorySystem()\n",
    "\n",
    "# Add products to the inventory\n",
    "inventory_system.add_product(product1)\n",
    "inventory_system.add_product(product2)\n",
    "inventory_system.add_product(product3)\n",
    "\n",
    "# Display available products\n",
    "inventory_system.display_available_products()\n",
    "\n",
    "# Update quantity of a product\n",
    "inventory_system.update_quantity(2, 25)\n",
    "\n",
    "# Display updated available products\n",
    "inventory_system.display_available_products()\n"
   ]
  },
  {
   "cell_type": "markdown",
   "id": "8fd1f61f",
   "metadata": {},
   "source": [
    "Problem 6: Shape Calculation Create a class representing a shape with attributes like length, width, and height. Implement methods to calculate the area and perimeter of the shape.\n",
    "\n"
   ]
  },
  {
   "cell_type": "code",
   "execution_count": null,
   "id": "cc6f111e",
   "metadata": {},
   "outputs": [],
   "source": [
    "class Shape:\n",
    "    def __init__(self,length,width,height,radius):\n",
    "        self.length=length\n",
    "        self.width=width\n",
    "        self.height=height\n",
    "        self.radius = radius\n",
    "    def calculate_area(self):\n",
    "        raise NotImplementedError(\"No Implementation found in Sub Class for area calculation\")\n",
    "    def calculate_perimeter(self):\n",
    "        raise NotImplementedError(\"No Implementation found in Sub Class for perimeter calculation\")\n",
    "\n",
    "class Triangle(Shape):\n",
    "    def calculate_area(self):\n",
    "        return 0.5*self.length*self.height\n",
    "    def calculate_perimeter(self):\n",
    "        return self.height+self.length+self.width\n",
    "class Rectangle(Shape):\n",
    "    def calculate_area(self):\n",
    "        return self.length*self.width\n",
    "    def calculate_perimeter(self):\n",
    "        return 2*(self.length+self.width)\n",
    "class Circle(Shape):\n",
    "    def calculate_area(self):\n",
    "        import math        \n",
    "        return math.pi*self.radius**2\n",
    "    def calculate_perimeter(self):\n",
    "        import math\n",
    "        return 2 * math.pi * self.radius\n",
    "    \n",
    "rectangle = Rectangle(10, 5,None,None)\n",
    "\n",
    "area = rectangle.calculate_area()\n",
    "perimeter = rectangle.calculate_perimeter()\n",
    "print(\"Rectangle\\n\")\n",
    "\n",
    "print(f\"Area: {area}\")\n",
    "print(f\"Perimeter: {perimeter}\")\n",
    "\n",
    "circle= Circle(None,None,None,5)\n",
    "area = circle.calculate_area()\n",
    "perimeter = circle.calculate_perimeter()\n",
    "\n",
    "print(\"\\nCircle\\n\")\n",
    "print(f\"Area: {area}\")\n",
    "print(f\"Perimeter: {perimeter}\")    \n",
    "\n",
    "triangle= Triangle(10,10,7,None)\n",
    "area = triangle.calculate_area()\n",
    "perimeter = triangle.calculate_perimeter()\n",
    "\n",
    "print(\"\\nTriangle\\n\")\n",
    "print(f\"Area: {area}\")\n",
    "print(f\"Perimeter: {perimeter}\")  "
   ]
  },
  {
   "cell_type": "markdown",
   "id": "fb0ed5d1",
   "metadata": {},
   "source": [
    "Problem 7: Student Management Create a class representing a student with attributes like student ID, name, and grades. Implement methods to calculate the average grade and display student details.\n",
    "\n"
   ]
  },
  {
   "cell_type": "code",
   "execution_count": null,
   "id": "04498b9d",
   "metadata": {},
   "outputs": [],
   "source": [
    "class studentmanagement:\n",
    "    def __init__(self,studentId,name,grades):\n",
    "        self.studentId=studentId\n",
    "        self.name=name\n",
    "        self.grades=grades\n",
    "        \n",
    "    def averageGrade(self):\n",
    "        return sum(self.grades)/len(self.grades)\n",
    "    def studentDetails(self):\n",
    "        print(f\"Name: {self.name}\")\n",
    "        print(f\"Grades: {self.grades}\")    \n",
    "        print(f\"StudentId: {self.studentId}\")    \n",
    "        print(f\"Average Grade is: {self.averageGrade()}\")    \n",
    "student= studentmanagement(4456,\"Rakesh Roshan\",[90,65.4,88,70.23,92.8])    \n",
    "student.studentDetails()"
   ]
  },
  {
   "cell_type": "markdown",
   "id": "76ccccaa",
   "metadata": {},
   "source": [
    "Problem 8: Email Management Create a class representing an email with attributes like sender, recipient, and subject. Implement methods to send an email and display email details.\n",
    "\n"
   ]
  },
  {
   "cell_type": "code",
   "execution_count": null,
   "id": "666cd31d",
   "metadata": {},
   "outputs": [],
   "source": [
    "import smtplib\n",
    "class emailManagement:\n",
    "    def __init__(self,sender,recipient,subject,message):\n",
    "        self.sender = sender\n",
    "        self.recipient = recipient\n",
    "        self.subject = subject\n",
    "        self.message = message\n",
    "        self.sent = False\n",
    "    def send_email(self):\n",
    "        if not self.sent:\n",
    "            print(f\"Email sent from {self.sender} to {self.recipient}\")\n",
    "            self.sent = True\n",
    "        else:\n",
    "            print(\"This email has already been sent.\")\n",
    "    def display_email_details(self):\n",
    "        print(\"Email Details:\")\n",
    "        print(f\"Sender: {self.sender}\")\n",
    "        print(f\"Recipient: {self.recipient}\")\n",
    "        print(f\"Subject: {self.subject}\")\n",
    "        print(f\"Message: {self.message}\")\n",
    "        if self.sent:\n",
    "            print(\"Status: Sent\")\n",
    "        else:\n",
    "            print(\"Status: Draft\")"
   ]
  },
  {
   "cell_type": "code",
   "execution_count": null,
   "id": "d9bede42",
   "metadata": {},
   "outputs": [],
   "source": [
    "email=emailManagement(\"senapatibipul9@gmail.com\",\"bipulbonty@gmail.com\",\"This is the subject!\", \"This is the body of the email.\")\n",
    "email.send_email()\n",
    "email.display_email_details()"
   ]
  },
  {
   "cell_type": "markdown",
   "id": "d463138f",
   "metadata": {},
   "source": [
    "Problem 9: Social Media Profile Create a class representing a social media profile with attributes like username and posts. Implement methods to add posts, display posts, and search for posts by keyword.\n",
    "\n"
   ]
  },
  {
   "cell_type": "code",
   "execution_count": null,
   "id": "4a2c37f6",
   "metadata": {},
   "outputs": [],
   "source": [
    "class social_media_profile:\n",
    "    def __init__(self,username):\n",
    "        self.username=username\n",
    "        self.posts=[]\n",
    "    def add_posts(self, posts):\n",
    "        self.posts.append(posts)\n",
    "    def display_posts(self):\n",
    "        for post in self.posts:\n",
    "            print(post)\n",
    "    def search_posts_by_keyword(self,keyword):\n",
    "        matchWordPost=[]\n",
    "        for post in self.posts:\n",
    "            if keyword in post:\n",
    "                matchWordPost.append(post)\n",
    "        return matchWordPost\n",
    "social_media_profile = social_media_profile(\"bipulbabu\")      \n",
    "social_media_profile.add_posts(\"This Is my First Post\")\n",
    "social_media_profile.add_posts(\"This Is my Second Post\")\n",
    "social_media_profile.add_posts(\"This Is my Third Post\")\n",
    "social_media_profile.add_posts(\"This Is my Fourth Post\")\n",
    "\n",
    "social_media_profile.display_posts()\n",
    "\n",
    "keyWord= social_media_profile.search_posts_by_keyword(\"Second\")\n",
    "for matchedPost in keyWord:\n",
    "    print(\"\\n\",matchedPost)"
   ]
  },
  {
   "cell_type": "markdown",
   "id": "6411dbf7",
   "metadata": {},
   "source": [
    "Problem 10: ToDo List Create a class representing a ToDo list with attributes like tasks and due dates. Implement methods to add tasks, mark tasks as completed, and display pending tasks."
   ]
  },
  {
   "cell_type": "code",
   "execution_count": null,
   "id": "119220eb",
   "metadata": {},
   "outputs": [],
   "source": [
    "class toDoList:\n",
    "    def __init__(self):\n",
    "        self.task= []\n",
    "        self.dueDate= []\n",
    "    def addTask(self,task,dueDate):\n",
    "        self.task.append(task)\n",
    "        self.dueDate.append(dueDate)\n",
    "        \n",
    "    def markTaskAsCompleted(self,task):\n",
    "        index=self.task.index(task)\n",
    "        self.task.remove(task)\n",
    "        self.dueDate.remove(self.dueDate[index])\n",
    "    def displayPendingTasks(self):\n",
    "        print(\"Your Pending Tasks \\n\")\n",
    "        for i in range(len(self.task)):\n",
    "            print(f\"{i+1}. {self.task[i]}  {self.dueDate[i]}\")\n",
    "to_do_List=toDoList()\n",
    "to_do_List.addTask(\"Finish my homework\", \"2023-09-01\")\n",
    "to_do_List.addTask(\"Done with breakfast\", \"2023-10-08\")\n",
    "to_do_List.addTask(\"Done Class Assignment\", \"2023-10-08\")\n",
    "to_do_List.markTaskAsCompleted(\"Done with breakfast\")\n",
    "to_do_List.displayPendingTasks()"
   ]
  },
  {
   "cell_type": "code",
   "execution_count": null,
   "id": "ab59f117",
   "metadata": {},
   "outputs": [],
   "source": []
  }
 ],
 "metadata": {
  "kernelspec": {
   "display_name": "Python 3 (ipykernel)",
   "language": "python",
   "name": "python3"
  },
  "language_info": {
   "codemirror_mode": {
    "name": "ipython",
    "version": 3
   },
   "file_extension": ".py",
   "mimetype": "text/x-python",
   "name": "python",
   "nbconvert_exporter": "python",
   "pygments_lexer": "ipython3",
   "version": "3.10.11"
  }
 },
 "nbformat": 4,
 "nbformat_minor": 5
}

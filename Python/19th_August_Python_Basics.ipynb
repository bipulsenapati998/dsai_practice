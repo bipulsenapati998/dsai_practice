{
 "cells": [
  {
   "cell_type": "markdown",
   "id": "5798f0bb",
   "metadata": {},
   "source": [
    "## TOPIC: Python Basics Variable"
   ]
  },
  {
   "cell_type": "markdown",
   "id": "f68c1c50",
   "metadata": {},
   "source": [
    "1. Declare two variables, `x` and `y`, and assign them integer values. Swap the\n",
    "values of these variables without using any temporary variable."
   ]
  },
  {
   "cell_type": "code",
   "execution_count": 29,
   "id": "276b43d5",
   "metadata": {},
   "outputs": [
    {
     "name": "stdout",
     "output_type": "stream",
     "text": [
      "Original values x=-5 AND y=677\n",
      "Swapped values x=677 AND y=-5\n"
     ]
    }
   ],
   "source": [
    "x=-5\n",
    "y=677\n",
    "print(f\"Original values x={x} AND y={y}\")\n",
    "x=x+y\n",
    "y=x-y\n",
    "x=x-y\n",
    "print(f\"Swapped values x={x} AND y={y}\")"
   ]
  },
  {
   "cell_type": "markdown",
   "id": "0fc3d37a",
   "metadata": {},
   "source": [
    "2. Create a program that calculates the area of a rectangle. Take the length and\n",
    "width as inputs from the user and store them in variables. Calculate and\n",
    "display the area"
   ]
  },
  {
   "cell_type": "code",
   "execution_count": 30,
   "id": "bce5afab",
   "metadata": {},
   "outputs": [
    {
     "name": "stdout",
     "output_type": "stream",
     "text": [
      "Length of Rectangle: 88.65\n",
      "Width of Rectangle: 91\n",
      "Area of Rectangle is: 8067.150000000001\n"
     ]
    }
   ],
   "source": [
    "val1= float(input(\"Length of Rectangle: \"))\n",
    "val2= float(input(\"Width of Rectangle: \"))\n",
    "print(f\"Area of Rectangle is: {val1*val2}\")"
   ]
  },
  {
   "cell_type": "markdown",
   "id": "66b1bca3",
   "metadata": {},
   "source": [
    "3. Write a Python program that converts temperatures from Celsius to\n",
    "Fahrenheit. Take the temperature in Celsius as input, store it in a variable,\n",
    "convert it to Fahrenheit, and display the result."
   ]
  },
  {
   "cell_type": "code",
   "execution_count": 31,
   "id": "9bc41af9",
   "metadata": {},
   "outputs": [
    {
     "name": "stdout",
     "output_type": "stream",
     "text": [
      "Enter Temp in Celsius: 28\n",
      "Temperature in Farenheit is : 82.4\n"
     ]
    }
   ],
   "source": [
    "tempC =float(input(\"Enter Temp in Celsius: \")) \n",
    "print(f\"Temperature in Farenheit is : {tempC*1.8+32}\")"
   ]
  },
  {
   "cell_type": "markdown",
   "id": "478374c6",
   "metadata": {},
   "source": [
    "## TOPIC: String Based Questions"
   ]
  },
  {
   "cell_type": "markdown",
   "id": "a06d7dec",
   "metadata": {},
   "source": [
    "1. Write a Python program that takes a string as input and prints the length of\n",
    "the string."
   ]
  },
  {
   "cell_type": "code",
   "execution_count": 32,
   "id": "a47eb64e",
   "metadata": {},
   "outputs": [
    {
     "name": "stdout",
     "output_type": "stream",
     "text": [
      "Write Something to calculate its Length: SomethinG\n",
      "Length of your entered String is: 9\n"
     ]
    }
   ],
   "source": [
    "mystr= input(\"Write Something to calculate its Length: \")\n",
    "print(f\"Length of your entered String is: {len(mystr)}\")"
   ]
  },
  {
   "cell_type": "markdown",
   "id": "7e0c4560",
   "metadata": {},
   "source": [
    "2. Create a program that takes a sentence from the user and counts the number\n",
    "of vowels (a, e, i, o, u) in the string."
   ]
  },
  {
   "cell_type": "code",
   "execution_count": 33,
   "id": "8d44c35a",
   "metadata": {},
   "outputs": [
    {
     "name": "stdout",
     "output_type": "stream",
     "text": [
      "Write a Sentence: I AM responsible to Develop API for customer beging a backend DeveLoper\n",
      "25\n"
     ]
    }
   ],
   "source": [
    "mysen= input(\"Write a Sentence: \")\n",
    "vowels=\"aAeEiIoOuU\"\n",
    "#Compare & Check\n",
    "count = sum(mysen.count(vowel) for vowel in vowels)\n",
    "print(count)"
   ]
  },
  {
   "cell_type": "markdown",
   "id": "109191eb",
   "metadata": {},
   "source": [
    "3. Given a string, reverse the order of characters using string slicing and print\n",
    "the reversed string."
   ]
  },
  {
   "cell_type": "code",
   "execution_count": 38,
   "id": "e3c9d689",
   "metadata": {},
   "outputs": [
    {
     "name": "stdout",
     "output_type": "stream",
     "text": [
      "Reverse of dameger ==> regemad\n"
     ]
    }
   ],
   "source": [
    "str= \"dameger\"\n",
    "print(f\"Reverse of {str} ==> {str[::-1]}\")"
   ]
  },
  {
   "cell_type": "markdown",
   "id": "bacb1654",
   "metadata": {},
   "source": [
    "4. Write a program that takes a string as input and checks if it is a palindrome\n",
    "(reads the same forwards and backwards)."
   ]
  },
  {
   "cell_type": "code",
   "execution_count": 35,
   "id": "4a5294a4",
   "metadata": {},
   "outputs": [
    {
     "name": "stdout",
     "output_type": "stream",
     "text": [
      "Write Something to check its palindrome: MadAm\n",
      "Yeah Its Palindrome\n"
     ]
    }
   ],
   "source": [
    "def isPalindrome(inp):\n",
    "    # Check Sensitivity of space & Case char\n",
    "    cleanedStr= inp.replace(\" \",\"\").lower()\n",
    "    # Compare with its rev one\n",
    "    return cleanedStr==cleanedStr[::-1]\n",
    "\n",
    "mystr= input(\"Write Something to check its palindrome: \")\n",
    "\n",
    "if isPalindrome(mystr):\n",
    "    print(\"Yeah Its Palindrome\")\n",
    "else: \n",
    "    print(\"Nahh!! Its Not Palindrome try with New String\")"
   ]
  },
  {
   "cell_type": "markdown",
   "id": "2dd37577",
   "metadata": {},
   "source": [
    "5. Create a program that takes a string as input and removes all the spaces from\n",
    "it. Print the modified string without spaces."
   ]
  },
  {
   "cell_type": "code",
   "execution_count": 36,
   "id": "f70d7305",
   "metadata": {},
   "outputs": [
    {
     "name": "stdout",
     "output_type": "stream",
     "text": [
      "Write Something to check to drop its space:                         Senapa t i\n",
      "String with EMpty Space Looks like: Senapati\n"
     ]
    }
   ],
   "source": [
    "myStr= input(\"Write Something to check to drop its space: \")\n",
    "print(\"String with EMpty Space Looks like:\",myStr.replace(\" \",\"\"))"
   ]
  }
 ],
 "metadata": {
  "kernelspec": {
   "display_name": "Python 3 (ipykernel)",
   "language": "python",
   "name": "python3"
  },
  "language_info": {
   "codemirror_mode": {
    "name": "ipython",
    "version": 3
   },
   "file_extension": ".py",
   "mimetype": "text/x-python",
   "name": "python",
   "nbconvert_exporter": "python",
   "pygments_lexer": "ipython3",
   "version": "3.10.11"
  }
 },
 "nbformat": 4,
 "nbformat_minor": 5
}

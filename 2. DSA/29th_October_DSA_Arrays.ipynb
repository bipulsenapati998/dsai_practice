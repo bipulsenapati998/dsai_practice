{
 "cells": [
  {
   "cell_type": "markdown",
   "id": "3510876e",
   "metadata": {},
   "source": [
    "1. Given an array, check if it contains any duplicates or not.\n",
    "arr = [1, 2, 4, 2, 5, 9]\n",
    "Output = True\n",
    "\n",
    "\n"
   ]
  },
  {
   "cell_type": "code",
   "execution_count": 2,
   "id": "e745558b",
   "metadata": {},
   "outputs": [
    {
     "name": "stdout",
     "output_type": "stream",
     "text": [
      "Contains Duplicate element in [1, 2, 4, 2, 5, 9]: True\n"
     ]
    }
   ],
   "source": [
    "## Time Complexity: O(n) #there is only one loop\n",
    "## Space Complexity O(n) # consumtion of extra space\n",
    "def check_duplicates(arr):\n",
    "    seen=set()\n",
    "    for num in arr:\n",
    "        if num in seen:\n",
    "            return True\n",
    "        seen.add(num)\n",
    "    return False\n",
    "\n",
    "arr = [1, 2, 4, 2, 5, 9]\n",
    "print(f\"Contains Duplicate element in {arr}: {check_duplicates(arr)}\")"
   ]
  },
  {
   "cell_type": "markdown",
   "id": "c1412d54",
   "metadata": {},
   "source": [
    "2.Given an array and an integer k, rotate the array to the right by k steps.\n",
    "arr = [1, 2, 3, 4, 5, 6, 7] k = 3\n",
    "Output = [5, 6, 7, 1, 2, 3, 4]\n",
    "\n",
    "\n",
    "\n"
   ]
  },
  {
   "cell_type": "code",
   "execution_count": 22,
   "id": "c025316c",
   "metadata": {},
   "outputs": [
    {
     "name": "stdout",
     "output_type": "stream",
     "text": [
      "[5, 6, 7, 1, 2, 3, 4]\n"
     ]
    }
   ],
   "source": [
    "## Time Complexity: O(n) # depending on length of array & further concat happens which take O(n)\n",
    "## Space Complexity: O(n) #slicing operations and the concatenation create new lists that have the same size as the original array.\n",
    "def rotate_array(arr,k):\n",
    "    n=len(arr)\n",
    "    k=k%n\n",
    "    return arr[-k:]+arr[:-k]\n",
    "arr = [1, 2, 3, 4, 5, 6, 7] \n",
    "k = 3\n",
    "print(rotate_array(arr,k))"
   ]
  },
  {
   "cell_type": "markdown",
   "id": "8da5f95a",
   "metadata": {},
   "source": [
    "3. Reverse the given array in-place, means without using any extra data structure.\n",
    "arr = [2, 4, 5, 7, 9, 12]\n",
    "Output = [12, 9, 7, 5, 4, 2]\n",
    "\n",
    "\n",
    "\n"
   ]
  },
  {
   "cell_type": "code",
   "execution_count": 28,
   "id": "23b9798e",
   "metadata": {},
   "outputs": [
    {
     "name": "stdout",
     "output_type": "stream",
     "text": [
      "[12, 9, 7, 5, 4, 2]\n"
     ]
    }
   ],
   "source": [
    "## Time Complexity:O(n/2)\n",
    "## Space Complexity:O(1)\n",
    "def reverseArr(arr):\n",
    "    start=0\n",
    "    end=len(arr)-1\n",
    "    while start<end:\n",
    "        arr[start],arr[end]=arr[end],arr[start]\n",
    "        start+=1\n",
    "        end-=1\n",
    "    return arr\n",
    "arr = [2, 4, 5, 7, 9, 12]\n",
    "print(reverseArr(arr))"
   ]
  },
  {
   "cell_type": "markdown",
   "id": "3c84cf3a",
   "metadata": {},
   "source": [
    "4. Given an array of integers, find the maximum element in an array\n",
    "\n",
    "arr = [10, 5, 20, 8, 15]\n",
    "\n",
    "Output = 20\n",
    "\n",
    "\n",
    "\n"
   ]
  },
  {
   "cell_type": "code",
   "execution_count": 30,
   "id": "5ea1e463",
   "metadata": {},
   "outputs": [
    {
     "name": "stdout",
     "output_type": "stream",
     "text": [
      "20\n"
     ]
    }
   ],
   "source": [
    "## Time Complexity:O(n)\n",
    "## Space Complexity:O(1)\n",
    "\n",
    "def maxElement(arr):\n",
    "    maxele=arr[0]\n",
    "    for i in arr:\n",
    "        if i>maxele:\n",
    "            maxele=i\n",
    "    return maxele\n",
    "arr = [10, 5, 20, 8, 15]\n",
    "print(maxElement(arr))"
   ]
  },
  {
   "cell_type": "markdown",
   "id": "b30168b6",
   "metadata": {},
   "source": [
    "5. Given a sorted array, remove the duplicate element without using any extra data structure.\n",
    "arr = [1, 1, 2, 2, 2, 3, 3, 4, 4, 4, 5, 5]\n",
    "Output = [1, 2, 3, 4, 5]"
   ]
  },
  {
   "cell_type": "code",
   "execution_count": 35,
   "id": "958d5bbe",
   "metadata": {},
   "outputs": [
    {
     "name": "stdout",
     "output_type": "stream",
     "text": [
      "[1, 2, 3, 4, 5]\n"
     ]
    }
   ],
   "source": [
    "## Time Complexity:O(n)\n",
    "## Space Complexity:O(1)\n",
    "\n",
    "def removeExtraElement(arr):\n",
    "    unique_count = 1\n",
    "    for i in range(1,len(arr)):\n",
    "        if arr[i]!=arr[i-1]:\n",
    "            arr[unique_count]=arr[i]\n",
    "            unique_count+=1\n",
    "    return arr[:unique_count]\n",
    "\n",
    "arr = [1, 1, 2, 2, 2, 3, 3, 4, 4, 4, 5, 5]\n",
    "print(removeExtraElement(arr))          "
   ]
  }
 ],
 "metadata": {
  "kernelspec": {
   "display_name": "Python 3 (ipykernel)",
   "language": "python",
   "name": "python3"
  },
  "language_info": {
   "codemirror_mode": {
    "name": "ipython",
    "version": 3
   },
   "file_extension": ".py",
   "mimetype": "text/x-python",
   "name": "python",
   "nbconvert_exporter": "python",
   "pygments_lexer": "ipython3",
   "version": "3.10.11"
  }
 },
 "nbformat": 4,
 "nbformat_minor": 5
}
